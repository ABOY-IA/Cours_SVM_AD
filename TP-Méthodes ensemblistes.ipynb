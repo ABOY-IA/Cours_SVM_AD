{
 "cells": [
  {
   "cell_type": "markdown",
   "id": "204a529d",
   "metadata": {},
   "source": [
    "Pour ce TP, nous allons utiliser les données déjà traitées [ici](https://www.kaggle.com/datasets/uciml/human-activity-recognition-with-smartphones/data) Pour tester les différentes méthodes d'ensemble."
   ]
  },
  {
   "cell_type": "markdown",
   "id": "1b757a77",
   "metadata": {},
   "source": [
    "### **Bagging**\n",
    "- [Random Forest](https://scikit-learn.org/stable/modules/generated/sklearn.ensemble.RandomForestClassifier.html)\n",
    "- [BaggingClassifier ](https://scikit-learn.org/stable/modules/generated/sklearn.ensemble.BaggingClassifier.html)\n",
    "- [BaggingRegressor ](https://scikit-learn.org/stable/modules/generated/sklearn.ensemble.BaggingRegressor.html)\n",
    "\n",
    "### **Boosting**\n",
    "- [AdaBoost](https://scikit-learn.org/stable/modules/generated/sklearn.ensemble.AdaBoostClassifier.html)\n",
    "- [Gradient Boosting ](https://scikit-learn.org/stable/modules/generated/sklearn.ensemble.GradientBoostingClassifier.html)\n",
    "- [XGBoost](https://xgboost.readthedocs.io/en/stable/)\n",
    "- [LightGBM](https://lightgbm.readthedocs.io/en/latest/)\n",
    "- [CatBoost](https://catboost.ai/)\n",
    "\n",
    "### **Stacking**\n",
    "- [StackingClassifier ](https://scikit-learn.org/stable/modules/generated/sklearn.ensemble.StackingClassifier.html)\n",
    "- [StackingRegressor ](https://scikit-learn.org/stable/modules/generated/sklearn.ensemble.StackingRegressor.html)\n",
    "- [VotingClassifier ](https://scikit-learn.org/stable/modules/generated/sklearn.ensemble.VotingClassifier.html)\n",
    "- [VotingRegressor ](https://scikit-learn.org/stable/modules/generated/sklearn.ensemble.VotingRegressor.html)\n",
    "\n"
   ]
  },
  {
   "cell_type": "markdown",
   "id": "c90d311b",
   "metadata": {},
   "source": [
    " **Bonnes pratiques**\n",
    "\n",
    "   - Vérifier les valeures manquantes\n",
    "    \n",
    "   - Utiliser [GridSearchCV](https://scikit-learn.org/stable/modules/generated/sklearn.model_selection.GridSearchCV.html#sklearn.model_selection.GridSearchCV)\n",
    "  pour optimiser les hyperparamètres\n",
    "   - Utiliser la validation croisée\n",
    "   - Tracer la courbe d'apprentissage\n",
    "   - Calculer les métriques"
   ]
  },
  {
   "cell_type": "code",
   "execution_count": null,
   "id": "04a1ae36",
   "metadata": {},
   "outputs": [],
   "source": []
  },
  {
   "cell_type": "code",
   "execution_count": null,
   "id": "f78b88ef",
   "metadata": {},
   "outputs": [],
   "source": []
  },
  {
   "cell_type": "code",
   "execution_count": null,
   "id": "eae2a6de",
   "metadata": {},
   "outputs": [],
   "source": []
  },
  {
   "cell_type": "code",
   "execution_count": null,
   "id": "e7ecaf4f",
   "metadata": {},
   "outputs": [],
   "source": []
  },
  {
   "cell_type": "code",
   "execution_count": null,
   "id": "cd91f522",
   "metadata": {},
   "outputs": [],
   "source": []
  },
  {
   "cell_type": "code",
   "execution_count": null,
   "id": "2c8aac1d",
   "metadata": {},
   "outputs": [],
   "source": []
  },
  {
   "cell_type": "code",
   "execution_count": null,
   "id": "cc739162",
   "metadata": {},
   "outputs": [],
   "source": []
  },
  {
   "cell_type": "code",
   "execution_count": null,
   "id": "1a3eff8f",
   "metadata": {},
   "outputs": [],
   "source": []
  }
 ],
 "metadata": {
  "kernelspec": {
   "display_name": "Python 3 (ipykernel)",
   "language": "python",
   "name": "python3"
  },
  "language_info": {
   "codemirror_mode": {
    "name": "ipython",
    "version": 3
   },
   "file_extension": ".py",
   "mimetype": "text/x-python",
   "name": "python",
   "nbconvert_exporter": "python",
   "pygments_lexer": "ipython3",
   "version": "3.10.6"
  },
  "toc": {
   "base_numbering": 1,
   "nav_menu": {},
   "number_sections": true,
   "sideBar": true,
   "skip_h1_title": false,
   "title_cell": "Table of Contents",
   "title_sidebar": "Contents",
   "toc_cell": false,
   "toc_position": {},
   "toc_section_display": true,
   "toc_window_display": false
  }
 },
 "nbformat": 4,
 "nbformat_minor": 5
}
