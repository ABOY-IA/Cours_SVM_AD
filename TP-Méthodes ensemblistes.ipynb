{
 "cells": [
  {
   "cell_type": "markdown",
   "id": "204a529d",
   "metadata": {},
   "source": [
    "Pour ce TP, nous allons utiliser les données déjà traitées [ici](https://www.kaggle.com/datasets/uciml/human-activity-recognition-with-smartphones/data) Pour tester les différentes méthodes d'ensemble."
   ]
  },
  {
   "cell_type": "markdown",
   "id": "1b757a77",
   "metadata": {},
   "source": [
    "### **Bagging**\n",
    "- [Random Forest](https://scikit-learn.org/stable/modules/generated/sklearn.ensemble.RandomForestClassifier.html)\n",
    "- [BaggingClassifier ](https://scikit-learn.org/stable/modules/generated/sklearn.ensemble.BaggingClassifier.html)\n",
    "- [BaggingRegressor ](https://scikit-learn.org/stable/modules/generated/sklearn.ensemble.BaggingRegressor.html)\n",
    "\n",
    "### **Boosting**\n",
    "- [AdaBoost](https://scikit-learn.org/stable/modules/generated/sklearn.ensemble.AdaBoostClassifier.html)\n",
    "- [Gradient Boosting ](https://scikit-learn.org/stable/modules/generated/sklearn.ensemble.GradientBoostingClassifier.html)\n",
    "- [XGBoost](https://xgboost.readthedocs.io/en/stable/)\n",
    "- [LightGBM](https://lightgbm.readthedocs.io/en/latest/)\n",
    "- [CatBoost](https://catboost.ai/)\n",
    "\n",
    "### **Stacking**\n",
    "- [StackingClassifier ](https://scikit-learn.org/stable/modules/generated/sklearn.ensemble.StackingClassifier.html)\n",
    "- [StackingRegressor ](https://scikit-learn.org/stable/modules/generated/sklearn.ensemble.StackingRegressor.html)\n",
    "- [VotingClassifier ](https://scikit-learn.org/stable/modules/generated/sklearn.ensemble.VotingClassifier.html)\n",
    "- [VotingRegressor ](https://scikit-learn.org/stable/modules/generated/sklearn.ensemble.VotingRegressor.html)\n",
    "\n"
   ]
  },
  {
   "cell_type": "markdown",
   "id": "c90d311b",
   "metadata": {},
   "source": [
    " **Bonnes pratiques**\n",
    "\n",
    "   - Vérifier les valeures manquantes\n",
    "    \n",
    "   - Utiliser [GridSearchCV](https://scikit-learn.org/stable/modules/generated/sklearn.model_selection.GridSearchCV.html#sklearn.model_selection.GridSearchCV)\n",
    "  pour optimiser les hyperparamètres\n",
    "   - Utiliser la validation croisée\n",
    "   - Tracer la courbe d'apprentissage\n",
    "   - Calculer les métriques"
   ]
  },
  {
   "cell_type": "code",
   "execution_count": 3,
   "id": "04a1ae36",
   "metadata": {},
   "outputs": [
    {
     "name": "stdout",
     "output_type": "stream",
     "text": [
      "Description du DF : \n",
      "       tBodyAcc-mean()-X  tBodyAcc-mean()-Y  tBodyAcc-mean()-Z  \\\n",
      "count        7352.000000        7352.000000        7352.000000   \n",
      "mean            0.274488          -0.017695          -0.109141   \n",
      "std             0.070261           0.040811           0.056635   \n",
      "min            -1.000000          -1.000000          -1.000000   \n",
      "25%             0.262975          -0.024863          -0.120993   \n",
      "50%             0.277193          -0.017219          -0.108676   \n",
      "75%             0.288461          -0.010783          -0.097794   \n",
      "max             1.000000           1.000000           1.000000   \n",
      "\n",
      "       tBodyAcc-std()-X  tBodyAcc-std()-Y  tBodyAcc-std()-Z  tBodyAcc-mad()-X  \\\n",
      "count       7352.000000       7352.000000       7352.000000       7352.000000   \n",
      "mean          -0.605438         -0.510938         -0.604754         -0.630512   \n",
      "std            0.448734          0.502645          0.418687          0.424073   \n",
      "min           -1.000000         -0.999873         -1.000000         -1.000000   \n",
      "25%           -0.992754         -0.978129         -0.980233         -0.993591   \n",
      "50%           -0.946196         -0.851897         -0.859365         -0.950709   \n",
      "75%           -0.242813         -0.034231         -0.262415         -0.292680   \n",
      "max            1.000000          0.916238          1.000000          1.000000   \n",
      "\n",
      "       tBodyAcc-mad()-Y  tBodyAcc-mad()-Z  tBodyAcc-max()-X  ...  \\\n",
      "count       7352.000000       7352.000000       7352.000000  ...   \n",
      "mean          -0.526907         -0.606150         -0.468604  ...   \n",
      "std            0.485942          0.414122          0.544547  ...   \n",
      "min           -1.000000         -1.000000         -1.000000  ...   \n",
      "25%           -0.978162         -0.980251         -0.936219  ...   \n",
      "50%           -0.857328         -0.857143         -0.881637  ...   \n",
      "75%           -0.066701         -0.265671         -0.017129  ...   \n",
      "max            0.967664          1.000000          1.000000  ...   \n",
      "\n",
      "       fBodyBodyGyroJerkMag-skewness()  fBodyBodyGyroJerkMag-kurtosis()  \\\n",
      "count                      7352.000000                      7352.000000   \n",
      "mean                         -0.307009                        -0.625294   \n",
      "std                           0.321011                         0.307584   \n",
      "min                          -0.995357                        -0.999765   \n",
      "25%                          -0.542602                        -0.845573   \n",
      "50%                          -0.343685                        -0.711692   \n",
      "75%                          -0.126979                        -0.503878   \n",
      "max                           0.989538                         0.956845   \n",
      "\n",
      "       angle(tBodyAccMean,gravity)  angle(tBodyAccJerkMean),gravityMean)  \\\n",
      "count                  7352.000000                           7352.000000   \n",
      "mean                      0.008684                              0.002186   \n",
      "std                       0.336787                              0.448306   \n",
      "min                      -0.976580                             -1.000000   \n",
      "25%                      -0.121527                             -0.289549   \n",
      "50%                       0.009509                              0.008943   \n",
      "75%                       0.150865                              0.292861   \n",
      "max                       1.000000                              1.000000   \n",
      "\n",
      "       angle(tBodyGyroMean,gravityMean)  angle(tBodyGyroJerkMean,gravityMean)  \\\n",
      "count                       7352.000000                           7352.000000   \n",
      "mean                           0.008726                             -0.005981   \n",
      "std                            0.608303                              0.477975   \n",
      "min                           -1.000000                             -1.000000   \n",
      "25%                           -0.482273                             -0.376341   \n",
      "50%                            0.008735                             -0.000368   \n",
      "75%                            0.506187                              0.359368   \n",
      "max                            0.998702                              0.996078   \n",
      "\n",
      "       angle(X,gravityMean)  angle(Y,gravityMean)  angle(Z,gravityMean)  \\\n",
      "count           7352.000000           7352.000000           7352.000000   \n",
      "mean              -0.489547              0.058593             -0.056515   \n",
      "std                0.511807              0.297480              0.279122   \n",
      "min               -1.000000             -1.000000             -1.000000   \n",
      "25%               -0.812065             -0.017885             -0.143414   \n",
      "50%               -0.709417              0.182071              0.003181   \n",
      "75%               -0.509079              0.248353              0.107659   \n",
      "max                1.000000              0.478157              1.000000   \n",
      "\n",
      "           subject  \n",
      "count  7352.000000  \n",
      "mean     17.413085  \n",
      "std       8.975143  \n",
      "min       1.000000  \n",
      "25%       8.000000  \n",
      "50%      19.000000  \n",
      "75%      26.000000  \n",
      "max      30.000000  \n",
      "\n",
      "[8 rows x 562 columns]\n",
      "Aperçu du DF : \n",
      "   tBodyAcc-mean()-X  tBodyAcc-mean()-Y  tBodyAcc-mean()-Z  tBodyAcc-std()-X  \\\n",
      "0           0.288585          -0.020294          -0.132905         -0.995279   \n",
      "1           0.278419          -0.016411          -0.123520         -0.998245   \n",
      "2           0.279653          -0.019467          -0.113462         -0.995380   \n",
      "3           0.279174          -0.026201          -0.123283         -0.996091   \n",
      "4           0.276629          -0.016570          -0.115362         -0.998139   \n",
      "\n",
      "   tBodyAcc-std()-Y  tBodyAcc-std()-Z  tBodyAcc-mad()-X  tBodyAcc-mad()-Y  \\\n",
      "0         -0.983111         -0.913526         -0.995112         -0.983185   \n",
      "1         -0.975300         -0.960322         -0.998807         -0.974914   \n",
      "2         -0.967187         -0.978944         -0.996520         -0.963668   \n",
      "3         -0.983403         -0.990675         -0.997099         -0.982750   \n",
      "4         -0.980817         -0.990482         -0.998321         -0.979672   \n",
      "\n",
      "   tBodyAcc-mad()-Z  tBodyAcc-max()-X  ...  fBodyBodyGyroJerkMag-kurtosis()  \\\n",
      "0         -0.923527         -0.934724  ...                        -0.710304   \n",
      "1         -0.957686         -0.943068  ...                        -0.861499   \n",
      "2         -0.977469         -0.938692  ...                        -0.760104   \n",
      "3         -0.989302         -0.938692  ...                        -0.482845   \n",
      "4         -0.990441         -0.942469  ...                        -0.699205   \n",
      "\n",
      "   angle(tBodyAccMean,gravity)  angle(tBodyAccJerkMean),gravityMean)  \\\n",
      "0                    -0.112754                              0.030400   \n",
      "1                     0.053477                             -0.007435   \n",
      "2                    -0.118559                              0.177899   \n",
      "3                    -0.036788                             -0.012892   \n",
      "4                     0.123320                              0.122542   \n",
      "\n",
      "   angle(tBodyGyroMean,gravityMean)  angle(tBodyGyroJerkMean,gravityMean)  \\\n",
      "0                         -0.464761                             -0.018446   \n",
      "1                         -0.732626                              0.703511   \n",
      "2                          0.100699                              0.808529   \n",
      "3                          0.640011                             -0.485366   \n",
      "4                          0.693578                             -0.615971   \n",
      "\n",
      "   angle(X,gravityMean)  angle(Y,gravityMean)  angle(Z,gravityMean)  subject  \\\n",
      "0             -0.841247              0.179941             -0.058627        1   \n",
      "1             -0.844788              0.180289             -0.054317        1   \n",
      "2             -0.848933              0.180637             -0.049118        1   \n",
      "3             -0.848649              0.181935             -0.047663        1   \n",
      "4             -0.847865              0.185151             -0.043892        1   \n",
      "\n",
      "   Activity  \n",
      "0  STANDING  \n",
      "1  STANDING  \n",
      "2  STANDING  \n",
      "3  STANDING  \n",
      "4  STANDING  \n",
      "\n",
      "[5 rows x 563 columns]\n",
      "Structure du DF : \n",
      "(7352, 563)\n"
     ]
    }
   ],
   "source": [
    "import pandas as pd\n",
    "\n",
    "df = pd.read_csv(\"train.csv\")\n",
    "\n",
    "print(\"Description du DF : \")\n",
    "print(df.describe())\n",
    "print(\"Aperçu du DF : \")\n",
    "print(df.head())\n",
    "print(\"Structure du DF : \")\n",
    "print(df.shape)"
   ]
  },
  {
   "cell_type": "markdown",
   "id": "1d86f7af",
   "metadata": {},
   "source": [
    "# Bagging"
   ]
  },
  {
   "cell_type": "code",
   "execution_count": 9,
   "id": "28b671a1",
   "metadata": {},
   "outputs": [
    {
     "name": "stdout",
     "output_type": "stream",
     "text": [
      "Valeurs manquantes par colonne :\n",
      "tBodyAcc-mean()-X       0\n",
      "tBodyAcc-mean()-Y       0\n",
      "tBodyAcc-mean()-Z       0\n",
      "tBodyAcc-std()-X        0\n",
      "tBodyAcc-std()-Y        0\n",
      "                       ..\n",
      "angle(X,gravityMean)    0\n",
      "angle(Y,gravityMean)    0\n",
      "angle(Z,gravityMean)    0\n",
      "subject                 0\n",
      "Activity                0\n",
      "Length: 563, dtype: int64\n",
      "Valeurs manquantes totales par colonne :\n",
      "0\n"
     ]
    }
   ],
   "source": [
    "# Vérifier les valeurs manquantes\n",
    "print(\"Valeurs manquantes par colonne :\")\n",
    "print(df.isnull().sum())\n",
    "print(\"Valeurs manquantes totales par colonne :\")\n",
    "print(df.isnull().sum().sum())  # Nombre total de valeurs manquantes"
   ]
  },
  {
   "cell_type": "markdown",
   "id": "20af28b8",
   "metadata": {},
   "source": [
    "## 1. Random Forest"
   ]
  },
  {
   "cell_type": "code",
   "execution_count": 18,
   "id": "7c64f155",
   "metadata": {},
   "outputs": [],
   "source": [
    "# Séparation des variables explicatives (X) et de la cible (y)\n",
    "X = df.drop([\"Activity\", \"subject\"], axis=1)\n",
    "y = df[\"Activity\"]\n",
    "\n",
    "# Encodage des classes cibles\n",
    "from sklearn.preprocessing import LabelEncoder\n",
    "le = LabelEncoder()\n",
    "y = le.fit_transform(y)  # Convertit les activités en entiers"
   ]
  },
  {
   "cell_type": "code",
   "execution_count": 19,
   "id": "a3f54507",
   "metadata": {},
   "outputs": [
    {
     "name": "stdout",
     "output_type": "stream",
     "text": [
      "Taille de l'ensemble d'entraînement : (5881, 561), (5881,)\n",
      "Taille de l'ensemble de test : (1471, 561), (1471,)\n"
     ]
    }
   ],
   "source": [
    "from sklearn.model_selection import train_test_split\n",
    "\n",
    "# Division en ensemble d'entraînement et de test\n",
    "X_train, X_test, y_train, y_test = train_test_split(X, y, test_size=0.2, random_state=42)\n",
    "\n",
    "# Vérification des dimensions\n",
    "print(f\"Taille de l'ensemble d'entraînement : {X_train.shape}, {y_train.shape}\")\n",
    "print(f\"Taille de l'ensemble de test : {X_test.shape}, {y_test.shape}\")"
   ]
  },
  {
   "cell_type": "code",
   "execution_count": 12,
   "id": "99824af8",
   "metadata": {},
   "outputs": [
    {
     "name": "stdout",
     "output_type": "stream",
     "text": [
      "Meilleurs paramètres pour Random Forest : {'max_depth': 30, 'min_samples_split': 2, 'n_estimators': 200}\n"
     ]
    }
   ],
   "source": [
    "from sklearn.ensemble import RandomForestClassifier\n",
    "from sklearn.model_selection import GridSearchCV\n",
    "\n",
    "# Modèle Random Forest\n",
    "rf = RandomForestClassifier(random_state=42)\n",
    "\n",
    "# Paramètres pour GridSearchCV\n",
    "param_grid = {\n",
    "    \"n_estimators\": [50, 100, 200],\n",
    "    \"max_depth\": [10, 20, 30],\n",
    "    \"min_samples_split\": [2, 5, 10]\n",
    "}\n",
    "\n",
    "# GridSearchCV\n",
    "grid_search_rf = GridSearchCV(rf, param_grid, cv=5, scoring=\"accuracy\", n_jobs=-1)\n",
    "grid_search_rf.fit(X_train, y_train)\n",
    "\n",
    "# Meilleurs paramètres\n",
    "print(\"Meilleurs paramètres pour Random Forest :\", grid_search_rf.best_params_)"
   ]
  },
  {
   "cell_type": "code",
   "execution_count": 15,
   "id": "25f2e8c6",
   "metadata": {},
   "outputs": [
    {
     "name": "stdout",
     "output_type": "stream",
     "text": [
      "RandomForestClassifier(max_depth=30, n_estimators=200, random_state=42)\n"
     ]
    },
    {
     "data": {
      "image/png": "[encoded data removed]",
      "text/plain": [
       "<Figure size 800x600 with 1 Axes>"
      ]
     },
     "metadata": {},
     "output_type": "display_data"
    }
   ],
   "source": [
    "from sklearn.model_selection import learning_curve\n",
    "import matplotlib.pyplot as plt\n",
    "import numpy as np\n",
    "\n",
    "# Meilleur modèle après optimisation\n",
    "best_rf = grid_search_rf.best_estimator_\n",
    "print(best_rf)\n",
    "\n",
    "# Courbe d'apprentissage\n",
    "train_sizes, train_scores, test_scores = learning_curve(\n",
    "    best_rf, X_train, y_train, cv=5, scoring=\"accuracy\", train_sizes=np.linspace(0.1, 1.0, 10)\n",
    ")\n",
    "\n",
    "# Moyennes et écarts-types des scores\n",
    "train_mean = np.mean(train_scores, axis=1)\n",
    "train_std = np.std(train_scores, axis=1)\n",
    "test_mean = np.mean(test_scores, axis=1)\n",
    "test_std = np.std(test_scores, axis=1)\n",
    "\n",
    "# Tracé de la courbe d'apprentissage\n",
    "plt.figure(figsize=(8, 6))\n",
    "plt.plot(train_sizes, train_mean, label=\"Exactitude d'entraînement\", marker=\"o\")\n",
    "plt.fill_between(train_sizes, train_mean - train_std, train_mean + train_std, alpha=0.1)\n",
    "plt.plot(train_sizes, test_mean, label=\"Exactitude de validation\", marker=\"o\")\n",
    "plt.fill_between(train_sizes, test_mean - test_std, test_mean + test_std, alpha=0.1)\n",
    "plt.xlabel(\"Taille de l'ensemble d'entraînement\")\n",
    "plt.ylabel(\"Exactitude\")\n",
    "plt.title(\"Courbe d'apprentissage - Random Forest\")\n",
    "plt.legend()\n",
    "plt.grid()\n",
    "plt.show()"
   ]
  },
  {
   "cell_type": "code",
   "execution_count": 16,
   "id": "59b15ff9",
   "metadata": {},
   "outputs": [
    {
     "name": "stdout",
     "output_type": "stream",
     "text": [
      "Rapport de classification pour Random Forest :\n",
      "                    precision    recall  f1-score   support\n",
      "\n",
      "            LAYING       1.00      1.00      1.00       280\n",
      "           SITTING       0.95      0.95      0.95       262\n",
      "          STANDING       0.96      0.95      0.95       276\n",
      "           WALKING       1.00      0.99      0.99       247\n",
      "WALKING_DOWNSTAIRS       1.00      0.97      0.98       206\n",
      "  WALKING_UPSTAIRS       0.96      0.99      0.98       200\n",
      "\n",
      "          accuracy                           0.98      1471\n",
      "         macro avg       0.98      0.98      0.98      1471\n",
      "      weighted avg       0.98      0.98      0.98      1471\n",
      "\n",
      "Matrice de confusion pour Random Forest :\n",
      "[[280   0   0   0   0   0]\n",
      " [  0 250  12   0   0   0]\n",
      " [  0  13 263   0   0   0]\n",
      " [  0   0   0 244   0   3]\n",
      " [  0   0   0   1 200   5]\n",
      " [  0   0   0   0   1 199]]\n"
     ]
    }
   ],
   "source": [
    "from sklearn.metrics import classification_report, confusion_matrix\n",
    "\n",
    "# Prédictions sur l'ensemble de test\n",
    "y_pred_rf = best_rf.predict(X_test)\n",
    "\n",
    "# Rapport de classification\n",
    "print(\"Rapport de classification pour Random Forest :\")\n",
    "print(classification_report(y_test, y_pred_rf, target_names=le.classes_))\n",
    "\n",
    "# Matrice de confusion\n",
    "print(\"Matrice de confusion pour Random Forest :\")\n",
    "print(confusion_matrix(y_test, y_pred_rf))"
   ]
  },
  {
   "cell_type": "markdown",
   "id": "2f4e2ce3",
   "metadata": {},
   "source": [
    "## 2. BaggingClassifier"
   ]
  },
  {
   "cell_type": "code",
   "execution_count": 22,
   "id": "5d2969fe",
   "metadata": {},
   "outputs": [
    {
     "name": "stdout",
     "output_type": "stream",
     "text": [
      "Meilleurs paramètres pour BaggingClassifier : {'estimator__max_depth': 20, 'n_estimators': 100}\n"
     ]
    }
   ],
   "source": [
    "from sklearn.ensemble import BaggingClassifier\n",
    "from sklearn.tree import DecisionTreeClassifier\n",
    "from sklearn.model_selection import GridSearchCV\n",
    "\n",
    "# Modèle BaggingClassifier avec un arbre de décision comme base\n",
    "bagging = BaggingClassifier(\n",
    "    estimator=DecisionTreeClassifier(random_state=42),\n",
    "    n_estimators=50,\n",
    "    random_state=42\n",
    ")\n",
    "\n",
    "# GridSearchCV pour BaggingClassifier\n",
    "param_grid_bagging = {\n",
    "    \"n_estimators\": [10, 50, 100],\n",
    "    \"estimator__max_depth\": [10, 20, None]\n",
    "}\n",
    "\n",
    "grid_search_bagging = GridSearchCV(bagging, param_grid_bagging, cv=5, scoring=\"accuracy\", n_jobs=-1)\n",
    "grid_search_bagging.fit(X_train, y_train)\n",
    "\n",
    "# Meilleurs paramètres\n",
    "print(\"Meilleurs paramètres pour BaggingClassifier :\", grid_search_bagging.best_params_)"
   ]
  },
  {
   "cell_type": "code",
   "execution_count": null,
   "id": "12665544",
   "metadata": {},
   "outputs": [
    {
     "name": "stdout",
     "output_type": "stream",
     "text": [
      "BaggingClassifier(estimator=DecisionTreeClassifier(max_depth=20,\n",
      "                                                   random_state=42),\n",
      "                  n_estimators=100, random_state=42)\n"
     ]
    },
    {
     "data": {
      "image/png": "[encoded data removed]",
      "text/plain": [
       "<Figure size 800x600 with 1 Axes>"
      ]
     },
     "metadata": {},
     "output_type": "display_data"
    }
   ],
   "source": [
    "from sklearn.model_selection import learning_curve\n",
    "import matplotlib.pyplot as plt\n",
    "import numpy as np\n",
    "\n",
    "# Meilleur modèle après optimisation\n",
    "best_bc = grid_search_bagging.best_estimator_\n",
    "print(best_bc)\n",
    "\n",
    "# Courbe d'apprentissage\n",
    "train_sizes, train_scores, test_scores = learning_curve(\n",
    "    best_bc, X_train, y_train, cv=5, scoring=\"accuracy\", train_sizes=np.linspace(0.1, 1.0, 10), n_jobs=-1\n",
    ")\n",
    "\n",
    "# Moyennes et écarts-types des scores\n",
    "train_mean = np.mean(train_scores, axis=1)\n",
    "train_std = np.std(train_scores, axis=1)\n",
    "test_mean = np.mean(test_scores, axis=1)\n",
    "test_std = np.std(test_scores, axis=1)\n",
    "\n",
    "# Tracé de la courbe d'apprentissage\n",
    "plt.figure(figsize=(8, 6))\n",
    "plt.plot(train_sizes, train_mean, label=\"Exactitude d'entraînement\", marker=\"o\")\n",
    "plt.fill_between(train_sizes, train_mean - train_std, train_mean + train_std, alpha=0.1)\n",
    "plt.plot(train_sizes, test_mean, label=\"Exactitude de validation\", marker=\"o\")\n",
    "plt.fill_between(train_sizes, test_mean - test_std, test_mean + test_std, alpha=0.1)\n",
    "plt.xlabel(\"Taille de l'ensemble d'entraînement\")\n",
    "plt.ylabel(\"Exactitude\")\n",
    "plt.title(\"Courbe d'apprentissage - BaggingClassifier\")\n",
    "plt.legend()\n",
    "plt.grid()\n",
    "plt.show()"
   ]
  },
  {
   "cell_type": "code",
   "execution_count": 26,
   "id": "daa200a3",
   "metadata": {},
   "outputs": [
    {
     "name": "stdout",
     "output_type": "stream",
     "text": [
      "Rapport de classification pour BaggingClassifier :\n",
      "                    precision    recall  f1-score   support\n",
      "\n",
      "            LAYING       1.00      1.00      1.00       280\n",
      "           SITTING       0.97      0.95      0.96       262\n",
      "          STANDING       0.96      0.97      0.96       276\n",
      "           WALKING       0.98      0.98      0.98       247\n",
      "WALKING_DOWNSTAIRS       0.97      0.94      0.96       206\n",
      "  WALKING_UPSTAIRS       0.94      0.97      0.95       200\n",
      "\n",
      "          accuracy                           0.97      1471\n",
      "         macro avg       0.97      0.97      0.97      1471\n",
      "      weighted avg       0.97      0.97      0.97      1471\n",
      "\n",
      "Matrice de confusion pour BaggingClassifier :\n",
      "[[280   0   0   0   0   0]\n",
      " [  0 250  12   0   0   0]\n",
      " [  0   9 267   0   0   0]\n",
      " [  0   0   0 241   2   4]\n",
      " [  0   0   0   3 194   9]\n",
      " [  0   0   0   2   4 194]]\n"
     ]
    }
   ],
   "source": [
    "from sklearn.metrics import classification_report, confusion_matrix\n",
    "\n",
    "# Prédictions sur l'ensemble de test\n",
    "y_pred_bc = best_bc.predict(X_test)\n",
    "\n",
    "# Rapport de classification\n",
    "print(\"Rapport de classification pour BaggingClassifier :\")\n",
    "print(classification_report(y_test, y_pred_bc, target_names=le.classes_))\n",
    "\n",
    "# Matrice de confusion\n",
    "print(\"Matrice de confusion pour BaggingClassifier :\")\n",
    "print(confusion_matrix(y_test, y_pred_bc))"
   ]
  },
  {
   "cell_type": "markdown",
   "id": "143b216f",
   "metadata": {},
   "source": [
    "## 3. BaggingRegression"
   ]
  },
  {
   "cell_type": "code",
   "execution_count": 27,
   "id": "df5248d4",
   "metadata": {},
   "outputs": [
    {
     "name": "stdout",
     "output_type": "stream",
     "text": [
      "Meilleurs paramètres pour BaggingRegressor : {'n_estimators': 100}\n"
     ]
    }
   ],
   "source": [
    "from sklearn.ensemble import BaggingRegressor\n",
    "from sklearn.linear_model import LinearRegression\n",
    "\n",
    "# Modèle BaggingRegressor avec une régression linéaire comme base\n",
    "bagging_regressor = BaggingRegressor(\n",
    "    estimator=LinearRegression(),\n",
    "    n_estimators=50,\n",
    "    random_state=42\n",
    ")\n",
    "\n",
    "# GridSearchCV pour BaggingRegressor\n",
    "param_grid_regressor = {\n",
    "    \"n_estimators\": [10, 50, 100]\n",
    "}\n",
    "\n",
    "grid_search_regressor = GridSearchCV(bagging_regressor, param_grid_regressor, cv=5, scoring=\"r2\", n_jobs=-1)\n",
    "grid_search_regressor.fit(X_train, y_train)\n",
    "\n",
    "# Meilleurs paramètres\n",
    "print(\"Meilleurs paramètres pour BaggingRegressor :\", grid_search_regressor.best_params_)"
   ]
  },
  {
   "cell_type": "code",
   "execution_count": 30,
   "id": "2e8a4a7b",
   "metadata": {},
   "outputs": [
    {
     "name": "stdout",
     "output_type": "stream",
     "text": [
      "BaggingRegressor(estimator=LinearRegression(), n_estimators=100,\n",
      "                 random_state=42)\n"
     ]
    },
    {
     "data": {
      "image/png": "[encoded data removed]",
      "text/plain": [
       "<Figure size 800x600 with 1 Axes>"
      ]
     },
     "metadata": {},
     "output_type": "display_data"
    }
   ],
   "source": [
    "from sklearn.model_selection import learning_curve\n",
    "import matplotlib.pyplot as plt\n",
    "import numpy as np\n",
    "\n",
    "# Meilleur modèle après optimisation\n",
    "best_br = grid_search_regressor.best_estimator_\n",
    "print(best_br)\n",
    "\n",
    "# Courbe d'apprentissage avec une métrique adaptée à la régression\n",
    "train_sizes, train_scores, test_scores = learning_curve(\n",
    "    best_br, X_train, y_train, cv=5, scoring=\"r2\", train_sizes=np.linspace(0.1, 1.0, 10), n_jobs=-1\n",
    ")\n",
    "\n",
    "# Moyennes et écarts-types des scores\n",
    "train_mean = np.mean(train_scores, axis=1)\n",
    "train_std = np.std(train_scores, axis=1)\n",
    "test_mean = np.mean(test_scores, axis=1)\n",
    "test_std = np.std(test_scores, axis=1)\n",
    "\n",
    "# Tracé de la courbe d'apprentissage\n",
    "plt.figure(figsize=(8, 6))\n",
    "plt.plot(train_sizes, train_mean, label=\"R² d'entraînement\", marker=\"o\")\n",
    "plt.fill_between(train_sizes, train_mean - train_std, train_mean + train_std, alpha=0.1)\n",
    "plt.plot(train_sizes, test_mean, label=\"R² de validation\", marker=\"o\")\n",
    "plt.fill_between(train_sizes, test_mean - test_std, test_mean + test_std, alpha=0.1)\n",
    "plt.xlabel(\"Taille de l'ensemble d'entraînement\")\n",
    "plt.ylabel(\"R²\")\n",
    "plt.title(\"Courbe d'apprentissage - BaggingRegressor\")\n",
    "plt.legend()\n",
    "plt.grid()\n",
    "plt.show()"
   ]
  },
  {
   "cell_type": "code",
   "execution_count": 31,
   "id": "1e70b07c",
   "metadata": {},
   "outputs": [
    {
     "name": "stdout",
     "output_type": "stream",
     "text": [
      "Erreur quadratique moyenne (MSE) : 0.09261849711586055\n",
      "Erreur absolue moyenne (MAE) : 0.23387430324192546\n",
      "Coefficient de détermination (R^2) : 0.9669570830846168\n",
      "Erreur quadratique moyenne racine (RMSE) : 0.30433287222359096\n"
     ]
    }
   ],
   "source": [
    "from sklearn.metrics import mean_squared_error\n",
    "from sklearn.metrics import mean_absolute_error\n",
    "from sklearn.metrics import r2_score\n",
    "import numpy as np\n",
    "\n",
    "# Prédictions sur l'ensemble de test\n",
    "y_pred_br = best_br.predict(X_test)\n",
    "\n",
    "mse = mean_squared_error(y_test, y_pred_br)\n",
    "print(\"Erreur quadratique moyenne (MSE) :\", mse)\n",
    "\n",
    "mae = mean_absolute_error(y_test, y_pred_br)\n",
    "print(\"Erreur absolue moyenne (MAE) :\", mae)\n",
    "\n",
    "r2 = r2_score(y_test, y_pred_br)\n",
    "print(\"Coefficient de détermination (R^2) :\", r2)\n",
    "\n",
    "rmse = np.sqrt(mse)\n",
    "print(\"Erreur quadratique moyenne racine (RMSE) :\", rmse)"
   ]
  },
  {
   "cell_type": "markdown",
   "id": "7befd4da",
   "metadata": {},
   "source": [
    "# Boosting"
   ]
  },
  {
   "cell_type": "markdown",
   "id": "c8b351b9",
   "metadata": {},
   "source": [
    "## 1. AdaBoost"
   ]
  },
  {
   "cell_type": "code",
   "execution_count": null,
   "id": "033d5e4b",
   "metadata": {},
   "outputs": [],
   "source": [
    "from sklearn.ensemble import AdaBoostClassifier\n",
    "from sklearn.model_selection import GridSearchCV\n",
    "\n",
    "# Modèle AdaBoost\n",
    "adaboost = AdaBoostClassifier(random_state=42)\n",
    "\n",
    "# Paramètres pour GridSearchCV\n",
    "param_grid_adaboost = {\n",
    "    \"n_estimators\": [50, 100, 200],\n",
    "    \"learning_rate\": [0.01, 0.1, 1, 10]\n",
    "}\n",
    "\n",
    "# GridSearchCV\n",
    "grid_search_adaboost = GridSearchCV(adaboost, param_grid_adaboost, cv=5, scoring=\"accuracy\", n_jobs=-1)\n",
    "grid_search_adaboost.fit(X_train, y_train)\n",
    "\n",
    "# Meilleurs paramètres\n",
    "print(\"Meilleurs paramètres pour AdaBoost :\", grid_search_adaboost.best_params_)"
   ]
  },
  {
   "cell_type": "code",
   "execution_count": null,
   "id": "e01ee96c",
   "metadata": {},
   "outputs": [],
   "source": [
    "from sklearn.model_selection import learning_curve\n",
    "import matplotlib.pyplot as plt\n",
    "import numpy as np\n",
    "\n",
    "# Meilleur modèle après optimisation\n",
    "best_adaboost = grid_search_adaboost.best_estimator_\n",
    "\n",
    "# Courbe d'apprentissage\n",
    "train_sizes, train_scores, test_scores = learning_curve(\n",
    "    best_adaboost, X_train, y_train, cv=5, scoring=\"accuracy\", train_sizes=np.linspace(0.1, 1.0, 10), n_jobs=-1\n",
    ")\n",
    "\n",
    "# Moyennes et écarts-types des scores\n",
    "train_mean = np.mean(train_scores, axis=1)\n",
    "train_std = np.std(train_scores, axis=1)\n",
    "test_mean = np.mean(test_scores, axis=1)\n",
    "test_std = np.std(test_scores, axis=1)\n",
    "\n",
    "# Tracé de la courbe d'apprentissage\n",
    "plt.figure(figsize=(8, 6))\n",
    "plt.plot(train_sizes, train_mean, label=\"Exactitude d'entraînement\", marker=\"o\")\n",
    "plt.fill_between(train_sizes, train_mean - train_std, train_mean + train_std, alpha=0.1)\n",
    "plt.plot(train_sizes, test_mean, label=\"Exactitude de validation\", marker=\"o\")\n",
    "plt.fill_between(train_sizes, test_mean - test_std, test_mean + test_std, alpha=0.1)\n",
    "plt.xlabel(\"Taille de l'ensemble d'entraînement\")\n",
    "plt.ylabel(\"Exactitude\")\n",
    "plt.title(\"Courbe d'apprentissage - AdaBoost\")\n",
    "plt.legend()\n",
    "plt.grid()\n",
    "plt.show()"
   ]
  },
  {
   "cell_type": "code",
   "execution_count": null,
   "id": "0f492eab",
   "metadata": {},
   "outputs": [],
   "source": [
    "from sklearn.metrics import classification_report, confusion_matrix\n",
    "\n",
    "# Prédictions sur l'ensemble de test\n",
    "y_pred_adaboost = best_adaboost.predict(X_test)\n",
    "\n",
    "# Rapport de classification\n",
    "print(\"Rapport de classification pour AdaBoost :\")\n",
    "print(classification_report(y_test, y_pred_adaboost, target_names=le.classes_))\n",
    "\n",
    "# Matrice de confusion\n",
    "print(\"Matrice de confusion pour AdaBoost :\")\n",
    "print(confusion_matrix(y_test, y_pred_adaboost))"
   ]
  },
  {
   "cell_type": "markdown",
   "id": "bf29c5b5",
   "metadata": {},
   "source": [
    "## 2. Gradient Boosting"
   ]
  },
  {
   "cell_type": "code",
   "execution_count": null,
   "id": "58409de3",
   "metadata": {},
   "outputs": [],
   "source": [
    "from sklearn.ensemble import GradientBoostingClassifier\n",
    "\n",
    "# Modèle Gradient Boosting\n",
    "gradient_boosting = GradientBoostingClassifier(random_state=42)\n",
    "\n",
    "# Paramètres pour GridSearchCV\n",
    "param_grid_gb = {\n",
    "    \"n_estimators\": [50, 100, 200],\n",
    "    \"learning_rate\": [0.01, 0.1, 1],\n",
    "    \"max_depth\": [3, 5, 7]\n",
    "}\n",
    "\n",
    "# GridSearchCV\n",
    "grid_search_gb = GridSearchCV(gradient_boosting, param_grid_gb, cv=5, scoring=\"accuracy\", n_jobs=-1)\n",
    "grid_search_gb.fit(X_train, y_train)\n",
    "\n",
    "# Meilleurs paramètres\n",
    "print(\"Meilleurs paramètres pour Gradient Boosting :\", grid_search_gb.best_params_)"
   ]
  },
  {
   "cell_type": "code",
   "execution_count": null,
   "id": "3f00cc7a",
   "metadata": {},
   "outputs": [],
   "source": [
    "from sklearn.model_selection import learning_curve\n",
    "import matplotlib.pyplot as plt\n",
    "import numpy as np\n",
    "\n",
    "# Meilleur modèle après optimisation\n",
    "best_gb = grid_search_gb.best_estimator_\n",
    "\n",
    "# Courbe d'apprentissage\n",
    "train_sizes, train_scores, test_scores = learning_curve(\n",
    "    best_gb, X_train, y_train, cv=5, scoring=\"accuracy\", train_sizes=np.linspace(0.1, 1.0, 10), n_jobs=-1\n",
    ")\n",
    "\n",
    "# Moyennes et écarts-types des scores\n",
    "train_mean = np.mean(train_scores, axis=1)\n",
    "train_std = np.std(train_scores, axis=1)\n",
    "test_mean = np.mean(test_scores, axis=1)\n",
    "test_std = np.std(test_scores, axis=1)\n",
    "\n",
    "# Tracé de la courbe d'apprentissage\n",
    "plt.figure(figsize=(8, 6))\n",
    "plt.plot(train_sizes, train_mean, label=\"Exactitude d'entraînement\", marker=\"o\")\n",
    "plt.fill_between(train_sizes, train_mean - train_std, train_mean + train_std, alpha=0.1)\n",
    "plt.plot(train_sizes, test_mean, label=\"Exactitude de validation\", marker=\"o\")\n",
    "plt.fill_between(train_sizes, test_mean - test_std, test_mean + test_std, alpha=0.1)\n",
    "plt.xlabel(\"Taille de l'ensemble d'entraînement\")\n",
    "plt.ylabel(\"Exactitude\")\n",
    "plt.title(\"Courbe d'apprentissage - Gradient Boosting\")\n",
    "plt.legend()\n",
    "plt.grid()\n",
    "plt.show()"
   ]
  },
  {
   "cell_type": "code",
   "execution_count": null,
   "id": "b5026065",
   "metadata": {},
   "outputs": [],
   "source": [
    "from sklearn.metrics import classification_report, confusion_matrix\n",
    "\n",
    "# Prédictions sur l'ensemble de test\n",
    "y_pred_gb = best_gb.predict(X_test)\n",
    "\n",
    "# Rapport de classification\n",
    "print(\"Rapport de classification pour Gradient Boosting :\")\n",
    "print(classification_report(y_test, y_pred_gb, target_names=le.classes_))\n",
    "\n",
    "# Matrice de confusion\n",
    "print(\"Matrice de confusion pour Gradient Boosting :\")\n",
    "print(confusion_matrix(y_test, y_pred_gb))"
   ]
  },
  {
   "cell_type": "markdown",
   "id": "b23ec849",
   "metadata": {},
   "source": [
    "## 3. XGBoost"
   ]
  },
  {
   "cell_type": "code",
   "execution_count": null,
   "id": "5849c319",
   "metadata": {},
   "outputs": [],
   "source": [
    "from xgboost import XGBClassifier\n",
    "\n",
    "# Modèle XGBoost\n",
    "xgb = XGBClassifier(use_label_encoder=False, eval_metric=\"mlogloss\", random_state=42)\n",
    "\n",
    "# Paramètres pour GridSearchCV\n",
    "param_grid_xgb = {\n",
    "    \"n_estimators\": [50, 100, 200],\n",
    "    \"learning_rate\": [0.01, 0.1, 1],\n",
    "    \"max_depth\": [3, 5, 7]\n",
    "}\n",
    "\n",
    "# GridSearchCV\n",
    "grid_search_xgb = GridSearchCV(xgb, param_grid_xgb, cv=5, scoring=\"accuracy\", n_jobs=-1)\n",
    "grid_search_xgb.fit(X_train, y_train)\n",
    "\n",
    "# Meilleurs paramètres\n",
    "print(\"Meilleurs paramètres pour XGBoost :\", grid_search_xgb.best_params_)"
   ]
  },
  {
   "cell_type": "code",
   "execution_count": null,
   "id": "ab04c6e5",
   "metadata": {},
   "outputs": [],
   "source": [
    "from xgboost import XGBClassifier\n",
    "from sklearn.model_selection import learning_curve\n",
    "import numpy as np\n",
    "import matplotlib.pyplot as plt\n",
    "\n",
    "# Meilleur modèle après optimisation\n",
    "best_xgb = grid_search_xgb.best_estimator_\n",
    "\n",
    "# Courbe d'apprentissage\n",
    "train_sizes, train_scores, test_scores = learning_curve(\n",
    "    best_xgb, X_train, y_train, cv=5, scoring=\"accuracy\", train_sizes=np.linspace(0.1, 1.0, 10), n_jobs=-1\n",
    ")\n",
    "\n",
    "# Moyennes et écarts-types des scores\n",
    "train_mean = np.mean(train_scores, axis=1)\n",
    "train_std = np.std(train_scores, axis=1)\n",
    "test_mean = np.mean(test_scores, axis=1)\n",
    "test_std = np.std(test_scores, axis=1)\n",
    "\n",
    "# Tracé de la courbe d'apprentissage\n",
    "plt.figure(figsize=(8, 6))\n",
    "plt.plot(train_sizes, train_mean, label=\"Exactitude d'entraînement\", marker=\"o\")\n",
    "plt.fill_between(train_sizes, train_mean - train_std, train_mean + train_std, alpha=0.1)\n",
    "plt.plot(train_sizes, test_mean, label=\"Exactitude de validation\", marker=\"o\")\n",
    "plt.fill_between(train_sizes, test_mean - test_std, test_mean + test_std, alpha=0.1)\n",
    "plt.xlabel(\"Taille de l'ensemble d'entraînement\")\n",
    "plt.ylabel(\"Exactitude\")\n",
    "plt.title(\"Courbe d'apprentissage - XGBoost\")\n",
    "plt.legend()\n",
    "plt.grid()\n",
    "plt.show()"
   ]
  },
  {
   "cell_type": "code",
   "execution_count": null,
   "id": "926edf53",
   "metadata": {},
   "outputs": [],
   "source": [
    "from sklearn.metrics import classification_report, confusion_matrix\n",
    "\n",
    "# Prédictions sur l'ensemble de test\n",
    "y_pred_xgb = best_xgb.predict(X_test)\n",
    "\n",
    "# Rapport de classification\n",
    "print(\"Rapport de classification pour XGBoost :\")\n",
    "print(classification_report(y_test, y_pred_xgb, target_names=le.classes_))\n",
    "\n",
    "# Matrice de confusion\n",
    "print(\"Matrice de confusion pour XGBoost :\")\n",
    "print(confusion_matrix(y_test, y_pred_xgb))"
   ]
  },
  {
   "cell_type": "markdown",
   "id": "c951198f",
   "metadata": {},
   "source": [
    "## 4. LightGBM"
   ]
  },
  {
   "cell_type": "code",
   "execution_count": null,
   "id": "3bad4a06",
   "metadata": {},
   "outputs": [],
   "source": [
    "from lightgbm import LGBMClassifier\n",
    "\n",
    "# Modèle LightGBM\n",
    "lgbm = LGBMClassifier(random_state=42)\n",
    "\n",
    "# Paramètres pour GridSearchCV\n",
    "param_grid_lgbm = {\n",
    "    \"n_estimators\": [50, 100, 200],\n",
    "    \"learning_rate\": [0.01, 0.1, 1],\n",
    "    \"num_leaves\": [31, 50, 100]\n",
    "}\n",
    "\n",
    "# GridSearchCV\n",
    "grid_search_lgbm = GridSearchCV(lgbm, param_grid_lgbm, cv=5, scoring=\"accuracy\", n_jobs=-1)\n",
    "grid_search_lgbm.fit(X_train, y_train)\n",
    "\n",
    "# Meilleurs paramètres\n",
    "print(\"Meilleurs paramètres pour LightGBM :\", grid_search_lgbm.best_params_)"
   ]
  },
  {
   "cell_type": "code",
   "execution_count": null,
   "id": "e51f8c69",
   "metadata": {},
   "outputs": [],
   "source": [
    "from lightgbm import LGBMClassifier\n",
    "\n",
    "# Meilleur modèle après optimisation\n",
    "best_lgbm = grid_search_lgbm.best_estimator_\n",
    "\n",
    "# Courbe d'apprentissage\n",
    "train_sizes, train_scores, test_scores = learning_curve(\n",
    "    best_lgbm, X_train, y_train, cv=5, scoring=\"accuracy\", train_sizes=np.linspace(0.1, 1.0, 10), n_jobs=-1\n",
    ")\n",
    "\n",
    "# Moyennes et écarts-types des scores\n",
    "train_mean = np.mean(train_scores, axis=1)\n",
    "train_std = np.std(train_scores, axis=1)\n",
    "test_mean = np.mean(test_scores, axis=1)\n",
    "test_std = np.std(test_scores, axis=1)\n",
    "\n",
    "# Tracé de la courbe d'apprentissage\n",
    "plt.figure(figsize=(8, 6))\n",
    "plt.plot(train_sizes, train_mean, label=\"Exactitude d'entraînement\", marker=\"o\")\n",
    "plt.fill_between(train_sizes, train_mean - train_std, train_mean + train_std, alpha=0.1)\n",
    "plt.plot(train_sizes, test_mean, label=\"Exactitude de validation\", marker=\"o\")\n",
    "plt.fill_between(train_sizes, test_mean - test_std, test_mean + test_std, alpha=0.1)\n",
    "plt.xlabel(\"Taille de l'ensemble d'entraînement\")\n",
    "plt.ylabel(\"Exactitude\")\n",
    "plt.title(\"Courbe d'apprentissage - LightGBM\")\n",
    "plt.legend()\n",
    "plt.grid()\n",
    "plt.show()"
   ]
  },
  {
   "cell_type": "code",
   "execution_count": null,
   "id": "b9dd34e7",
   "metadata": {},
   "outputs": [],
   "source": [
    "# Prédictions sur l'ensemble de test\n",
    "y_pred_lgbm = best_lgbm.predict(X_test)\n",
    "\n",
    "# Rapport de classification\n",
    "print(\"Rapport de classification pour LightGBM :\")\n",
    "print(classification_report(y_test, y_pred_lgbm, target_names=le.classes_))\n",
    "\n",
    "# Matrice de confusion\n",
    "print(\"Matrice de confusion pour LightGBM :\")\n",
    "print(confusion_matrix(y_test, y_pred_lgbm))"
   ]
  },
  {
   "cell_type": "markdown",
   "id": "47c397b1",
   "metadata": {},
   "source": [
    "## 5. CatBoost"
   ]
  },
  {
   "cell_type": "code",
   "execution_count": null,
   "id": "247d4c07",
   "metadata": {},
   "outputs": [],
   "source": [
    "from catboost import CatBoostClassifier\n",
    "\n",
    "# Modèle CatBoost\n",
    "catboost = CatBoostClassifier(verbose=0, random_state=42)\n",
    "\n",
    "# Paramètres pour GridSearchCV\n",
    "param_grid_cb = {\n",
    "    \"iterations\": [100, 200, 500],\n",
    "    \"learning_rate\": [0.01, 0.1, 1],\n",
    "    \"depth\": [3, 5, 7]\n",
    "}\n",
    "\n",
    "# GridSearchCV\n",
    "grid_search_cb = GridSearchCV(catboost, param_grid_cb, cv=5, scoring=\"accuracy\", n_jobs=-1)\n",
    "grid_search_cb.fit(X_train, y_train)\n",
    "\n",
    "# Meilleurs paramètres\n",
    "print(\"Meilleurs paramètres pour CatBoost :\", grid_search_cb.best_params_)"
   ]
  },
  {
   "cell_type": "code",
   "execution_count": null,
   "id": "def5f25d",
   "metadata": {},
   "outputs": [],
   "source": [
    "from catboost import CatBoostClassifier\n",
    "\n",
    "# Meilleur modèle après optimisation\n",
    "best_cb = grid_search_cb.best_estimator_\n",
    "\n",
    "# Courbe d'apprentissage\n",
    "train_sizes, train_scores, test_scores = learning_curve(\n",
    "    best_cb, X_train, y_train, cv=5, scoring=\"accuracy\", train_sizes=np.linspace(0.1, 1.0, 10), n_jobs=-1\n",
    ")\n",
    "\n",
    "# Moyennes et écarts-types des scores\n",
    "train_mean = np.mean(train_scores, axis=1)\n",
    "train_std = np.std(train_scores, axis=1)\n",
    "test_mean = np.mean(test_scores, axis=1)\n",
    "test_std = np.std(test_scores, axis=1)\n",
    "\n",
    "# Tracé de la courbe d'apprentissage\n",
    "plt.figure(figsize=(8, 6))\n",
    "plt.plot(train_sizes, train_mean, label=\"Exactitude d'entraînement\", marker=\"o\")\n",
    "plt.fill_between(train_sizes, train_mean - train_std, train_mean + train_std, alpha=0.1)\n",
    "plt.plot(train_sizes, test_mean, label=\"Exactitude de validation\", marker=\"o\")\n",
    "plt.fill_between(train_sizes, test_mean - test_std, test_mean + test_std, alpha=0.1)\n",
    "plt.xlabel(\"Taille de l'ensemble d'entraînement\")\n",
    "plt.ylabel(\"Exactitude\")\n",
    "plt.title(\"Courbe d'apprentissage - CatBoost\")\n",
    "plt.legend()\n",
    "plt.grid()\n",
    "plt.show()"
   ]
  },
  {
   "cell_type": "code",
   "execution_count": null,
   "id": "e3c927d0",
   "metadata": {},
   "outputs": [],
   "source": [
    "# Prédictions sur l'ensemble de test\n",
    "y_pred_cb = best_cb.predict(X_test)\n",
    "\n",
    "# Rapport de classification\n",
    "print(\"Rapport de classification pour CatBoost :\")\n",
    "print(classification_report(y_test, y_pred_cb, target_names=le.classes_))\n",
    "\n",
    "# Matrice de confusion\n",
    "print(\"Matrice de confusion pour CatBoost :\")\n",
    "print(confusion_matrix(y_test, y_pred_cb))"
   ]
  },
  {
   "cell_type": "markdown",
   "id": "7c1f8d61",
   "metadata": {},
   "source": [
    "# Stacking"
   ]
  },
  {
   "cell_type": "markdown",
   "id": "f3f2f275",
   "metadata": {},
   "source": [
    "## 1. StackingClassifier"
   ]
  },
  {
   "cell_type": "code",
   "execution_count": null,
   "id": "60b8f40f",
   "metadata": {},
   "outputs": [],
   "source": [
    "from sklearn.ensemble import StackingClassifier\n",
    "from sklearn.linear_model import LogisticRegression\n",
    "from sklearn.tree import DecisionTreeClassifier\n",
    "from sklearn.svm import SVC\n",
    "\n",
    "# Modèles de base pour le Stacking\n",
    "estimators = [\n",
    "    (\"dt\", DecisionTreeClassifier(random_state=42)),\n",
    "    (\"svc\", SVC(probability=True, random_state=42))\n",
    "]\n",
    "\n",
    "# Modèle StackingClassifier\n",
    "stacking_clf = StackingClassifier(\n",
    "    estimators=estimators,\n",
    "    final_estimator=LogisticRegression(),\n",
    "    cv=5,\n",
    "    n_jobs=-1\n",
    ")\n",
    "\n",
    "# Paramètres pour GridSearchCV\n",
    "param_grid_stacking_clf = {\n",
    "    \"final_estimator__C\": [0.1, 1, 10],\n",
    "    \"final_estimator__penalty\": [\"l2\"]\n",
    "}\n",
    "\n",
    "# GridSearchCV\n",
    "grid_search_stacking_clf = GridSearchCV(stacking_clf, param_grid_stacking_clf, cv=5, scoring=\"accuracy\", n_jobs=-1)\n",
    "grid_search_stacking_clf.fit(X_train, y_train)\n",
    "\n",
    "# Meilleurs paramètres\n",
    "print(\"Meilleurs paramètres pour StackingClassifier :\", grid_search_stacking_clf.best_params_)"
   ]
  },
  {
   "cell_type": "code",
   "execution_count": null,
   "id": "b8e78160",
   "metadata": {},
   "outputs": [],
   "source": [
    "from sklearn.model_selection import learning_curve\n",
    "import matplotlib.pyplot as plt\n",
    "import numpy as np\n",
    "\n",
    "# Meilleur modèle après optimisation\n",
    "best_stacking_clf = grid_search_stacking_clf.best_estimator_\n",
    "\n",
    "# Courbe d'apprentissage\n",
    "train_sizes, train_scores, test_scores = learning_curve(\n",
    "    best_stacking_clf, X_train, y_train, cv=5, scoring=\"accuracy\", train_sizes=np.linspace(0.1, 1.0, 10), n_jobs=-1\n",
    ")\n",
    "\n",
    "# Moyennes et écarts-types des scores\n",
    "train_mean = np.mean(train_scores, axis=1)\n",
    "train_std = np.std(train_scores, axis=1)\n",
    "test_mean = np.mean(test_scores, axis=1)\n",
    "test_std = np.std(test_scores, axis=1)\n",
    "\n",
    "# Tracé de la courbe d'apprentissage\n",
    "plt.figure(figsize=(8, 6))\n",
    "plt.plot(train_sizes, train_mean, label=\"Exactitude d'entraînement\", marker=\"o\")\n",
    "plt.fill_between(train_sizes, train_mean - train_std, train_mean + train_std, alpha=0.1)\n",
    "plt.plot(train_sizes, test_mean, label=\"Exactitude de validation\", marker=\"o\")\n",
    "plt.fill_between(train_sizes, test_mean - test_std, test_mean + test_std, alpha=0.1)\n",
    "plt.xlabel(\"Taille de l'ensemble d'entraînement\")\n",
    "plt.ylabel(\"Exactitude\")\n",
    "plt.title(\"Courbe d'apprentissage - StackingClassifier\")\n",
    "plt.legend()\n",
    "plt.grid()\n",
    "plt.show()"
   ]
  },
  {
   "cell_type": "code",
   "execution_count": null,
   "id": "92f14017",
   "metadata": {},
   "outputs": [],
   "source": [
    "from sklearn.metrics import classification_report, confusion_matrix\n",
    "\n",
    "# Prédictions sur l'ensemble de test\n",
    "y_pred_stacking_clf = best_stacking_clf.predict(X_test)\n",
    "\n",
    "# Rapport de classification\n",
    "print(\"Rapport de classification pour StackingClassifier :\")\n",
    "print(classification_report(y_test, y_pred_stacking_clf, target_names=le.classes_))\n",
    "\n",
    "# Matrice de confusion\n",
    "print(\"Matrice de confusion pour StackingClassifier :\")\n",
    "print(confusion_matrix(y_test, y_pred_stacking_clf))"
   ]
  },
  {
   "cell_type": "markdown",
   "id": "cb759db0",
   "metadata": {},
   "source": [
    "## 2. StackingRegressor"
   ]
  },
  {
   "cell_type": "code",
   "execution_count": null,
   "id": "62ea6df6",
   "metadata": {},
   "outputs": [],
   "source": [
    "from sklearn.ensemble import StackingRegressor\n",
    "from sklearn.linear_model import Ridge\n",
    "from sklearn.tree import DecisionTreeRegressor\n",
    "from sklearn.svm import SVR\n",
    "\n",
    "# Modèles de base pour le Stacking\n",
    "estimators = [\n",
    "    (\"dt\", DecisionTreeRegressor(random_state=42)),\n",
    "    (\"svr\", SVR())\n",
    "]\n",
    "\n",
    "# Modèle StackingRegressor\n",
    "stacking_reg = StackingRegressor(\n",
    "    estimators=estimators,\n",
    "    final_estimator=Ridge(),\n",
    "    n_jobs=-1\n",
    ")\n",
    "\n",
    "# Paramètres pour GridSearchCV\n",
    "param_grid_stacking_reg = {\n",
    "    \"final_estimator__alpha\": [0.1, 1, 10],\n",
    "}\n",
    "\n",
    "# GridSearchCV\n",
    "grid_search_stacking_reg = GridSearchCV(stacking_reg, param_grid_stacking_reg, cv=5, scoring=\"r2\", n_jobs=-1)\n",
    "grid_search_stacking_reg.fit(X_train, y_train)\n",
    "\n",
    "# Meilleurs paramètres\n",
    "print(\"Meilleurs paramètres pour StackingRegressor :\", grid_search_stacking_reg.best_params_)"
   ]
  },
  {
   "cell_type": "code",
   "execution_count": null,
   "id": "b676bc07",
   "metadata": {},
   "outputs": [],
   "source": [
    "from sklearn.model_selection import learning_curve\n",
    "import matplotlib.pyplot as plt\n",
    "import numpy as np\n",
    "\n",
    "# Meilleur modèle après optimisation\n",
    "best_stacking_reg = grid_search_stacking_reg.best_estimator_\n",
    "\n",
    "# Courbe d'apprentissage pour StackingRegressor\n",
    "train_sizes, train_scores, test_scores = learning_curve(\n",
    "    best_stacking_reg, X_train, y_train, cv=5, scoring=\"r2\", train_sizes=np.linspace(0.1, 1.0, 10), n_jobs=-1\n",
    ")\n",
    "\n",
    "# Moyennes et écarts-types des scores\n",
    "train_mean = np.mean(train_scores, axis=1)\n",
    "train_std = np.std(train_scores, axis=1)\n",
    "test_mean = np.mean(test_scores, axis=1)\n",
    "test_std = np.std(test_scores, axis=1)\n",
    "\n",
    "# Tracé de la courbe d'apprentissage\n",
    "plt.figure(figsize=(8, 6))\n",
    "plt.plot(train_sizes, train_mean, label=\"Exactitude d'entraînement\", marker=\"o\")\n",
    "plt.fill_between(train_sizes, train_mean - train_std, train_mean + train_std, alpha=0.1)\n",
    "plt.plot(train_sizes, test_mean, label=\"Exactitude de validation\", marker=\"o\")\n",
    "plt.fill_between(train_sizes, test_mean - test_std, test_mean + test_std, alpha=0.1)\n",
    "plt.xlabel(\"Taille de l'ensemble d'entraînement\")\n",
    "plt.ylabel(\"Exactitude\")\n",
    "plt.title(\"Courbe d'apprentissage - StackingRegressor\")\n",
    "plt.legend()\n",
    "plt.grid()\n",
    "plt.show()"
   ]
  },
  {
   "cell_type": "code",
   "execution_count": null,
   "id": "644ff37f",
   "metadata": {},
   "outputs": [],
   "source": [
    "from sklearn.metrics import mean_squared_error, r2_score\n",
    "import numpy as np\n",
    "\n",
    "# Prédictions sur l'ensemble de test\n",
    "y_pred_stacking_reg = best_stacking_reg.predict(X_test)\n",
    "\n",
    "# Évaluation des métriques\n",
    "print(\"R² :\", r2_score(y_test, y_pred_stacking_reg))\n",
    "print(\"MSE :\", mean_squared_error(y_test, y_pred_stacking_reg))\n",
    "print(\"RMSE :\", np.sqrt(mean_squared_error(y_test, y_pred_stacking_reg)))"
   ]
  },
  {
   "cell_type": "markdown",
   "id": "2a82e631",
   "metadata": {},
   "source": [
    "## 3. VotingClassifier"
   ]
  },
  {
   "cell_type": "code",
   "execution_count": null,
   "id": "cc38ee46",
   "metadata": {},
   "outputs": [],
   "source": [
    "from sklearn.ensemble import VotingClassifier\n",
    "from sklearn.tree import DecisionTreeClassifier\n",
    "from sklearn.svm import SVC\n",
    "from sklearn.linear_model import LogisticRegression\n",
    "from sklearn.model_selection import GridSearchCV\n",
    "\n",
    "# Modèles pour VotingClassifier\n",
    "voting_clf = VotingClassifier(\n",
    "    estimators=[\n",
    "        (\"dt\", DecisionTreeClassifier(random_state=42)),\n",
    "        (\"svc\", SVC(probability=True, random_state=42)),\n",
    "        (\"lr\", LogisticRegression(random_state=42))\n",
    "    ],\n",
    "    voting=\"soft\",  # Prise en compte des probabilités\n",
    "    n_jobs=-1\n",
    ")\n",
    "\n",
    "# Paramètres pour GridSearchCV\n",
    "param_grid_voting_clf = {\n",
    "    \"svc__C\": [0.1, 1, 10],  # Optimisation du SVM\n",
    "    \"dt__max_depth\": [5, 10, 20],  # Optimisation de l'arbre de décision\n",
    "    \"lr__C\": [0.1, 1, 10]  # Optimisation de la régression logistique\n",
    "}\n",
    "\n",
    "# GridSearchCV\n",
    "grid_search_voting_clf = GridSearchCV(voting_clf, param_grid_voting_clf, cv=5, scoring=\"accuracy\", n_jobs=-1)\n",
    "grid_search_voting_clf.fit(X_train, y_train)\n",
    "\n",
    "# Meilleurs paramètres\n",
    "print(\"Meilleurs paramètres pour VotingClassifier :\", grid_search_voting_clf.best_params_)"
   ]
  },
  {
   "cell_type": "code",
   "execution_count": null,
   "id": "cf8c5fae",
   "metadata": {},
   "outputs": [],
   "source": [
    "from sklearn.model_selection import learning_curve\n",
    "import matplotlib.pyplot as plt\n",
    "import numpy as np\n",
    "\n",
    "# Meilleur modèle après optimisation\n",
    "best_voting_clf = grid_search_voting_clf.best_estimator_\n",
    "\n",
    "# Courbe d'apprentissage\n",
    "train_sizes, train_scores, test_scores = learning_curve(\n",
    "    best_voting_clf, X_train, y_train, cv=5, scoring=\"accuracy\", train_sizes=np.linspace(0.1, 1.0, 10), n_jobs=-1\n",
    ")\n",
    "\n",
    "# Moyennes et écarts-types des scores\n",
    "train_mean = np.mean(train_scores, axis=1)\n",
    "train_std = np.std(train_scores, axis=1)\n",
    "test_mean = np.mean(test_scores, axis=1)\n",
    "test_std = np.std(test_scores, axis=1)\n",
    "\n",
    "# Tracé de la courbe d'apprentissage\n",
    "plt.figure(figsize=(8, 6))\n",
    "plt.plot(train_sizes, train_mean, label=\"Exactitude d'entraînement\", marker=\"o\")\n",
    "plt.fill_between(train_sizes, train_mean - train_std, train_mean + train_std, alpha=0.1)\n",
    "plt.plot(train_sizes, test_mean, label=\"Exactitude de validation\", marker=\"o\")\n",
    "plt.fill_between(train_sizes, test_mean - test_std, test_mean + test_std, alpha=0.1)\n",
    "plt.xlabel(\"Taille de l'ensemble d'entraînement\")\n",
    "plt.ylabel(\"Exactitude\")\n",
    "plt.title(\"Courbe d'apprentissage - VotingClassifier\")\n",
    "plt.legend()\n",
    "plt.grid()\n",
    "plt.show()"
   ]
  },
  {
   "cell_type": "code",
   "execution_count": null,
   "id": "c618ed85",
   "metadata": {},
   "outputs": [],
   "source": [
    "from sklearn.metrics import classification_report, confusion_matrix\n",
    "\n",
    "# Prédictions sur l'ensemble de test\n",
    "y_pred_voting_clf = best_voting_clf.predict(X_test)\n",
    "\n",
    "# Rapport de classification\n",
    "print(\"Rapport de classification pour VotingClassifier :\")\n",
    "print(classification_report(y_test, y_pred_voting_clf, target_names=le.classes_))\n",
    "\n",
    "# Matrice de confusion\n",
    "print(\"Matrice de confusion pour VotingClassifier :\")\n",
    "print(confusion_matrix(y_test, y_pred_voting_clf))"
   ]
  },
  {
   "cell_type": "markdown",
   "id": "4e2216d1",
   "metadata": {},
   "source": [
    "## 4. VotingRegressor"
   ]
  },
  {
   "cell_type": "code",
   "execution_count": null,
   "id": "4b7128df",
   "metadata": {},
   "outputs": [],
   "source": [
    "from sklearn.ensemble import VotingRegressor\n",
    "from sklearn.tree import DecisionTreeRegressor\n",
    "from sklearn.linear_model import Ridge\n",
    "from sklearn.svm import SVR\n",
    "from sklearn.model_selection import GridSearchCV\n",
    "\n",
    "# Modèles pour VotingRegressor\n",
    "voting_reg = VotingRegressor(\n",
    "    estimators=[\n",
    "        (\"dt\", DecisionTreeRegressor(random_state=42)),\n",
    "        (\"svr\", SVR()),\n",
    "        (\"ridge\", Ridge())\n",
    "    ]\n",
    ")\n",
    "\n",
    "# Paramètres pour GridSearchCV\n",
    "param_grid_voting_reg = {\n",
    "    \"dt__max_depth\": [5, 10, 20],  # Optimisation de l'arbre de décision\n",
    "    \"svr__C\": [0.1, 1, 10],  # Optimisation du SVM\n",
    "    \"ridge__alpha\": [0.1, 1, 10]  # Optimisation de Ridge\n",
    "}\n",
    "\n",
    "# GridSearchCV\n",
    "grid_search_voting_reg = GridSearchCV(voting_reg, param_grid_voting_reg, cv=5, scoring=\"r2\", n_jobs=-1)\n",
    "grid_search_voting_reg.fit(X_train, y_train)\n",
    "\n",
    "# Meilleurs paramètres\n",
    "print(\"Meilleurs paramètres pour VotingRegressor :\", grid_search_voting_reg.best_params_)"
   ]
  },
  {
   "cell_type": "code",
   "execution_count": null,
   "id": "d72b67cc",
   "metadata": {},
   "outputs": [],
   "source": [
    "# Meilleur modèle après optimisation\n",
    "best_voting_reg = grid_search_voting_reg.best_estimator_\n",
    "\n",
    "# Courbe d'apprentissage\n",
    "train_sizes, train_scores, test_scores = learning_curve(\n",
    "    best_voting_reg, X_train, y_train, cv=5, scoring=\"r2\", train_sizes=np.linspace(0.1, 1.0, 10), n_jobs=-1\n",
    ")\n",
    "\n",
    "# Moyennes et écarts-types des scores\n",
    "train_mean = np.mean(train_scores, axis=1)\n",
    "train_std = np.std(train_scores, axis=1)\n",
    "test_mean = np.mean(test_scores, axis=1)\n",
    "test_std = np.std(test_scores, axis=1)\n",
    "\n",
    "# Tracé de la courbe d'apprentissage\n",
    "plt.figure(figsize=(8, 6))\n",
    "plt.plot(train_sizes, train_mean, label=\"R² d'entraînement\", marker=\"o\")\n",
    "plt.fill_between(train_sizes, train_mean - train_std, train_mean + train_std, alpha=0.1)\n",
    "plt.plot(train_sizes, test_mean, label=\"R² de validation\", marker=\"o\")\n",
    "plt.fill_between(train_sizes, test_mean - test_std, test_mean + test_std, alpha=0.1)\n",
    "plt.xlabel(\"Taille de l'ensemble d'entraînement\")\n",
    "plt.ylabel(\"R²\")\n",
    "plt.title(\"Courbe d'apprentissage - VotingRegressor\")\n",
    "plt.legend()\n",
    "plt.grid()\n",
    "plt.show()"
   ]
  },
  {
   "cell_type": "code",
   "execution_count": null,
   "id": "c3fa8643",
   "metadata": {},
   "outputs": [],
   "source": [
    "from sklearn.metrics import mean_squared_error, r2_score\n",
    "import numpy as np\n",
    "\n",
    "# Prédictions sur l'ensemble de test\n",
    "y_pred_voting_reg = best_voting_reg.predict(X_test)\n",
    "\n",
    "# Évaluation des métriques\n",
    "print(\"R² :\", r2_score(y_test, y_pred_voting_reg))\n",
    "print(\"MSE :\", mean_squared_error(y_test, y_pred_voting_reg))\n",
    "print(\"RMSE :\", np.sqrt(mean_squared_error(y_test, y_pred_voting_reg)))"
   ]
  }
 ],
 "metadata": {
  "kernelspec": {
   "display_name": ".venv",
   "language": "python",
   "name": "python3"
  },
  "language_info": {
   "codemirror_mode": {
    "name": "ipython",
    "version": 3
   },
   "file_extension": ".py",
   "mimetype": "text/x-python",
   "name": "python",
   "nbconvert_exporter": "python",
   "pygments_lexer": "ipython3",
   "version": "3.12.4"
  },
  "toc": {
   "base_numbering": 1,
   "nav_menu": {},
   "number_sections": true,
   "sideBar": true,
   "skip_h1_title": false,
   "title_cell": "Table of Contents",
   "title_sidebar": "Contents",
   "toc_cell": false,
   "toc_position": {},
   "toc_section_display": true,
   "toc_window_display": false
  }
 },
 "nbformat": 4,
 "nbformat_minor": 5
}
