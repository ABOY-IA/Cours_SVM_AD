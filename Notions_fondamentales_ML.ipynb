{
 "cells": [
  {
   "cell_type": "markdown",
   "metadata": {},
   "source": [
    "# Notions mises en place pour la Régression"
   ]
  },
  {
   "cell_type": "code",
   "execution_count": 19,
   "metadata": {},
   "outputs": [
    {
     "data": {
      "text/html": [
       "<div>\n",
       "<style scoped>\n",
       "    .dataframe tbody tr th:only-of-type {\n",
       "        vertical-align: middle;\n",
       "    }\n",
       "\n",
       "    .dataframe tbody tr th {\n",
       "        vertical-align: top;\n",
       "    }\n",
       "\n",
       "    .dataframe thead th {\n",
       "        text-align: right;\n",
       "    }\n",
       "</style>\n",
       "<table border=\"1\" class=\"dataframe\">\n",
       "  <thead>\n",
       "    <tr style=\"text-align: right;\">\n",
       "      <th></th>\n",
       "      <th>fixed acidity</th>\n",
       "      <th>volatile acidity</th>\n",
       "      <th>citric acid</th>\n",
       "      <th>residual sugar</th>\n",
       "      <th>chlorides</th>\n",
       "      <th>free sulfur dioxide</th>\n",
       "      <th>total sulfur dioxide</th>\n",
       "      <th>density</th>\n",
       "      <th>pH</th>\n",
       "      <th>sulphates</th>\n",
       "      <th>alcohol</th>\n",
       "      <th>quality</th>\n",
       "    </tr>\n",
       "  </thead>\n",
       "  <tbody>\n",
       "    <tr>\n",
       "      <th>0</th>\n",
       "      <td>7.4</td>\n",
       "      <td>0.70</td>\n",
       "      <td>0.00</td>\n",
       "      <td>1.9</td>\n",
       "      <td>0.076</td>\n",
       "      <td>11.0</td>\n",
       "      <td>34.0</td>\n",
       "      <td>0.9978</td>\n",
       "      <td>3.51</td>\n",
       "      <td>0.56</td>\n",
       "      <td>9.4</td>\n",
       "      <td>5</td>\n",
       "    </tr>\n",
       "    <tr>\n",
       "      <th>1</th>\n",
       "      <td>7.8</td>\n",
       "      <td>0.88</td>\n",
       "      <td>0.00</td>\n",
       "      <td>2.6</td>\n",
       "      <td>0.098</td>\n",
       "      <td>25.0</td>\n",
       "      <td>67.0</td>\n",
       "      <td>0.9968</td>\n",
       "      <td>3.20</td>\n",
       "      <td>0.68</td>\n",
       "      <td>9.8</td>\n",
       "      <td>5</td>\n",
       "    </tr>\n",
       "    <tr>\n",
       "      <th>2</th>\n",
       "      <td>7.8</td>\n",
       "      <td>0.76</td>\n",
       "      <td>0.04</td>\n",
       "      <td>2.3</td>\n",
       "      <td>0.092</td>\n",
       "      <td>15.0</td>\n",
       "      <td>54.0</td>\n",
       "      <td>0.9970</td>\n",
       "      <td>3.26</td>\n",
       "      <td>0.65</td>\n",
       "      <td>9.8</td>\n",
       "      <td>5</td>\n",
       "    </tr>\n",
       "    <tr>\n",
       "      <th>3</th>\n",
       "      <td>11.2</td>\n",
       "      <td>0.28</td>\n",
       "      <td>0.56</td>\n",
       "      <td>1.9</td>\n",
       "      <td>0.075</td>\n",
       "      <td>17.0</td>\n",
       "      <td>60.0</td>\n",
       "      <td>0.9980</td>\n",
       "      <td>3.16</td>\n",
       "      <td>0.58</td>\n",
       "      <td>9.8</td>\n",
       "      <td>6</td>\n",
       "    </tr>\n",
       "    <tr>\n",
       "      <th>4</th>\n",
       "      <td>7.4</td>\n",
       "      <td>0.70</td>\n",
       "      <td>0.00</td>\n",
       "      <td>1.9</td>\n",
       "      <td>0.076</td>\n",
       "      <td>11.0</td>\n",
       "      <td>34.0</td>\n",
       "      <td>0.9978</td>\n",
       "      <td>3.51</td>\n",
       "      <td>0.56</td>\n",
       "      <td>9.4</td>\n",
       "      <td>5</td>\n",
       "    </tr>\n",
       "  </tbody>\n",
       "</table>\n",
       "</div>"
      ],
      "text/plain": [
       "   fixed acidity  volatile acidity  citric acid  residual sugar  chlorides  \\\n",
       "0            7.4              0.70         0.00             1.9      0.076   \n",
       "1            7.8              0.88         0.00             2.6      0.098   \n",
       "2            7.8              0.76         0.04             2.3      0.092   \n",
       "3           11.2              0.28         0.56             1.9      0.075   \n",
       "4            7.4              0.70         0.00             1.9      0.076   \n",
       "\n",
       "   free sulfur dioxide  total sulfur dioxide  density    pH  sulphates  \\\n",
       "0                 11.0                  34.0   0.9978  3.51       0.56   \n",
       "1                 25.0                  67.0   0.9968  3.20       0.68   \n",
       "2                 15.0                  54.0   0.9970  3.26       0.65   \n",
       "3                 17.0                  60.0   0.9980  3.16       0.58   \n",
       "4                 11.0                  34.0   0.9978  3.51       0.56   \n",
       "\n",
       "   alcohol  quality  \n",
       "0      9.4        5  \n",
       "1      9.8        5  \n",
       "2      9.8        5  \n",
       "3      9.8        6  \n",
       "4      9.4        5  "
      ]
     },
     "execution_count": 19,
     "metadata": {},
     "output_type": "execute_result"
    }
   ],
   "source": [
    "import pandas as pd\n",
    "\n",
    "data_corrected = pd.read_csv(\"winequality-red-modified.csv\")\n",
    "data_corrected.head()"
   ]
  },
  {
   "cell_type": "code",
   "execution_count": 20,
   "metadata": {},
   "outputs": [
    {
     "name": "stdout",
     "output_type": "stream",
     "text": [
      "<class 'pandas.core.frame.DataFrame'>\n",
      "RangeIndex: 1599 entries, 0 to 1598\n",
      "Data columns (total 12 columns):\n",
      " #   Column                Non-Null Count  Dtype  \n",
      "---  ------                --------------  -----  \n",
      " 0   fixed acidity         1599 non-null   float64\n",
      " 1   volatile acidity      1599 non-null   float64\n",
      " 2   citric acid           1599 non-null   float64\n",
      " 3   residual sugar        1599 non-null   float64\n",
      " 4   chlorides             1599 non-null   float64\n",
      " 5   free sulfur dioxide   1599 non-null   float64\n",
      " 6   total sulfur dioxide  1599 non-null   float64\n",
      " 7   density               1599 non-null   float64\n",
      " 8   pH                    1599 non-null   float64\n",
      " 9   sulphates             1599 non-null   float64\n",
      " 10  alcohol               1599 non-null   float64\n",
      " 11  quality               1599 non-null   int64  \n",
      "dtypes: float64(11), int64(1)\n",
      "memory usage: 150.0 KB\n",
      "None\n",
      "fixed acidity           0\n",
      "volatile acidity        0\n",
      "citric acid             0\n",
      "residual sugar          0\n",
      "chlorides               0\n",
      "free sulfur dioxide     0\n",
      "total sulfur dioxide    0\n",
      "density                 0\n",
      "pH                      0\n",
      "sulphates               0\n",
      "alcohol                 0\n",
      "quality                 0\n",
      "dtype: int64\n",
      "Distribution de la qualité :\n",
      "quality\n",
      "3     10\n",
      "4     53\n",
      "5    681\n",
      "6    638\n",
      "7    199\n",
      "8     18\n",
      "Name: count, dtype: int64\n",
      "Résumé statistique :\n",
      "       fixed acidity  volatile acidity  citric acid  residual sugar  \\\n",
      "count    1599.000000       1599.000000  1599.000000     1599.000000   \n",
      "mean        8.319637          0.527821     0.270976        2.538806   \n",
      "std         1.741096          0.179060     0.194801        1.409928   \n",
      "min         4.600000          0.120000     0.000000        0.900000   \n",
      "25%         7.100000          0.390000     0.090000        1.900000   \n",
      "50%         7.900000          0.520000     0.260000        2.200000   \n",
      "75%         9.200000          0.640000     0.420000        2.600000   \n",
      "max        15.900000          1.580000     1.000000       15.500000   \n",
      "\n",
      "         chlorides  free sulfur dioxide  total sulfur dioxide      density  \\\n",
      "count  1599.000000          1599.000000           1599.000000  1599.000000   \n",
      "mean      0.087467            15.874922             46.467792     0.996747   \n",
      "std       0.047065            10.460157             32.895324     0.001887   \n",
      "min       0.012000             1.000000              6.000000     0.990070   \n",
      "25%       0.070000             7.000000             22.000000     0.995600   \n",
      "50%       0.079000            14.000000             38.000000     0.996750   \n",
      "75%       0.090000            21.000000             62.000000     0.997835   \n",
      "max       0.611000            72.000000            289.000000     1.003690   \n",
      "\n",
      "                pH    sulphates      alcohol      quality  \n",
      "count  1599.000000  1599.000000  1599.000000  1599.000000  \n",
      "mean      3.311113     0.658149    10.422983     5.636023  \n",
      "std       0.154386     0.169507     1.065668     0.807569  \n",
      "min       2.740000     0.330000     8.400000     3.000000  \n",
      "25%       3.210000     0.550000     9.500000     5.000000  \n",
      "50%       3.310000     0.620000    10.200000     6.000000  \n",
      "75%       3.400000     0.730000    11.100000     6.000000  \n",
      "max       4.010000     2.000000    14.900000     8.000000  \n"
     ]
    }
   ],
   "source": [
    "# Vérification des colonnes et des types de données\n",
    "print(data_corrected.info())\n",
    "\n",
    "# Vérification des valeurs manquantes\n",
    "print(data_corrected.isnull().sum())\n",
    "\n",
    "# Distribution de la variable cible \"quality\"\n",
    "print(\"Distribution de la qualité :\")\n",
    "print(data_corrected[\"quality\"].value_counts().sort_index())\n",
    "\n",
    "# Résumé statistique pour comprendre les caractéristiques des variables explicatives\n",
    "print(\"Résumé statistique :\")\n",
    "print(data_corrected.describe())"
   ]
  },
  {
   "cell_type": "markdown",
   "metadata": {},
   "source": [
    "### 1. Différence entre apprentissage supervisé et non supervisé\n",
    "Nous choisissons la régression **supervisée**, car nous cherchons à prédire la variable cible **quality** (numérique continue)."
   ]
  },
  {
   "cell_type": "markdown",
   "metadata": {},
   "source": [
    "### 2. Préparation des données\n",
    "Objectif : Préparer les données pour une régression supervisée :\n",
    "\n",
    "Définir les variables explicatives (X) et la cible (y).\n",
    "Diviser les données en ensembles d'entraînement et de test."
   ]
  },
  {
   "cell_type": "code",
   "execution_count": 21,
   "metadata": {},
   "outputs": [
    {
     "name": "stdout",
     "output_type": "stream",
     "text": [
      "Entraînement : (1279, 11) (1279,)\n",
      "Test : (320, 11) (320,)\n"
     ]
    }
   ],
   "source": [
    "from sklearn.model_selection import train_test_split\n",
    "\n",
    "# Variables explicatives et cible\n",
    "X = data_corrected.drop(\"quality\", axis=1)\n",
    "y = data_corrected[\"quality\"]\n",
    "\n",
    "# Division en ensembles d'entraînement et de test\n",
    "X_train, X_test, y_train, y_test = train_test_split(X, y, test_size=0.2, random_state=42)\n",
    "\n",
    "# Vérification des dimensions\n",
    "print(\"Entraînement :\", X_train.shape, y_train.shape)\n",
    "print(\"Test :\", X_test.shape, y_test.shape)"
   ]
  },
  {
   "cell_type": "markdown",
   "metadata": {},
   "source": [
    "Entraînement : 1279 observations avec 11 variables explicatives.\n",
    "\n",
    "Test : 320 observations avec 11 variables explicatives.\n",
    "\n",
    "Interprétation : Les données ont été correctement divisées, avec environ 80 % des observations utilisées pour l'entraînement et 20 % pour le test."
   ]
  },
  {
   "cell_type": "markdown",
   "metadata": {},
   "source": [
    "### 3. Régression linéaire et validation croisée\n",
    "Objectif : Évaluer la performance d’un modèle de régression linéaire à l’aide de la validation croisée."
   ]
  },
  {
   "cell_type": "code",
   "execution_count": 22,
   "metadata": {},
   "outputs": [
    {
     "name": "stdout",
     "output_type": "stream",
     "text": [
      "Validation croisée :\n",
      "MSE moyen : 0.44005649987704665\n",
      "Écart type : 0.052880642340780354\n"
     ]
    }
   ],
   "source": [
    "from sklearn.linear_model import LinearRegression\n",
    "from sklearn.model_selection import cross_val_score\n",
    "\n",
    "# Modèle de régression linéaire\n",
    "lin_reg = LinearRegression()\n",
    "\n",
    "# Validation croisée\n",
    "cv_scores = cross_val_score(lin_reg, X_train, y_train, cv=5, scoring=\"neg_mean_squared_error\")\n",
    "\n",
    "# Résultats\n",
    "cv_mean = -cv_scores.mean()\n",
    "cv_std = cv_scores.std()\n",
    "\n",
    "print(\"Validation croisée :\")\n",
    "print(\"MSE moyen :\", cv_mean)\n",
    "print(\"Écart type :\", cv_std)"
   ]
  },
  {
   "cell_type": "markdown",
   "metadata": {},
   "source": [
    "MSE moyen : 0.4401\n",
    "\n",
    "Écart type : 0.0529\n",
    "\n",
    "Interprétation : Le modèle de régression linéaire montre une performance constante sur les différents sous-ensembles, avec une erreur moyenne modérée et une faible variabilité, ce qui indique une bonne stabilité."
   ]
  },
  {
   "cell_type": "markdown",
   "metadata": {},
   "source": [
    "### 4. Sur-apprentissage et sous-apprentissage\n",
    "Objectif : Analyser les erreurs sur les ensembles d'entraînement et de test pour détecter un sur-apprentissage ou sous-apprentissage"
   ]
  },
  {
   "cell_type": "code",
   "execution_count": 23,
   "metadata": {},
   "outputs": [
    {
     "name": "stdout",
     "output_type": "stream",
     "text": [
      "Erreur d'entraînement : 0.4241911573139901\n",
      "Erreur de test : 0.39002514396395416\n"
     ]
    }
   ],
   "source": [
    "from sklearn.metrics import mean_squared_error\n",
    "\n",
    "# Entraînement du modèle\n",
    "lin_reg.fit(X_train, y_train)\n",
    "\n",
    "# Erreurs\n",
    "train_error = mean_squared_error(y_train, lin_reg.predict(X_train))\n",
    "test_error = mean_squared_error(y_test, lin_reg.predict(X_test))\n",
    "\n",
    "print(\"Erreur d'entraînement :\", train_error)\n",
    "print(\"Erreur de test :\", test_error)"
   ]
  },
  {
   "cell_type": "markdown",
   "metadata": {},
   "source": [
    "Erreur d'entraînement : 0.4242\n",
    "\n",
    "Erreur de test : 0.3900\n",
    "\n",
    "Interprétation : Les erreurs sont proches, ce qui indique que le modèle généralise bien. Il n'y a ni sur-apprentissage (erreur d'entraînement très faible) ni sous-apprentissage (erreur élevée sur les deux ensembles)."
   ]
  },
  {
   "cell_type": "markdown",
   "metadata": {},
   "source": [
    "### 5. Tracer et interpréter la courbe d’apprentissage (Learning Curve)\n",
    "Objectif : Visualiser l’apprentissage du modèle en fonction de la taille des données d’entraînement."
   ]
  },
  {
   "cell_type": "code",
   "execution_count": 24,
   "metadata": {},
   "outputs": [
    {
     "data": {
      "image/png": "[encoded data removed]",
      "text/plain": [
       "<Figure size 800x600 with 1 Axes>"
      ]
     },
     "metadata": {},
     "output_type": "display_data"
    }
   ],
   "source": [
    "from sklearn.model_selection import learning_curve\n",
    "import numpy as np\n",
    "import matplotlib.pyplot as plt\n",
    "\n",
    "# Courbe d'apprentissage\n",
    "train_sizes, train_scores, test_scores = learning_curve(\n",
    "    lin_reg, X, y, cv=5, scoring=\"neg_mean_squared_error\", train_sizes=np.linspace(0.1, 1.0, 10)\n",
    ")\n",
    "\n",
    "# Moyennes et écarts-types\n",
    "train_mean = -train_scores.mean(axis=1)\n",
    "train_std = train_scores.std(axis=1)\n",
    "test_mean = -test_scores.mean(axis=1)\n",
    "test_std = test_scores.std(axis=1)\n",
    "\n",
    "# Tracé\n",
    "plt.figure(figsize=(8, 6))\n",
    "plt.plot(train_sizes, train_mean, label=\"Erreur d'entraînement\", marker=\"o\")\n",
    "plt.fill_between(train_sizes, train_mean - train_std, train_mean + train_std, alpha=0.1)\n",
    "plt.plot(train_sizes, test_mean, label=\"Erreur de validation\", marker=\"o\")\n",
    "plt.fill_between(train_sizes, test_mean - test_std, test_mean + test_std, alpha=0.1)\n",
    "plt.xlabel(\"Taille de l'ensemble d'entraînement\")\n",
    "plt.ylabel(\"Erreur quadratique moyenne (MSE)\")\n",
    "plt.title(\"Courbe d'apprentissage\")\n",
    "plt.legend()\n",
    "plt.grid()\n",
    "plt.show()"
   ]
  },
  {
   "cell_type": "markdown",
   "metadata": {},
   "source": [
    "#### Erreur d'entraînement (courbe bleue) :\n",
    "\n",
    "L'erreur est initialement faible avec de petits ensembles d'entraînement, mais elle augmente à mesure que la taille de l'ensemble d'entraînement augmente.\n",
    "Cette hausse indique que le modèle s'ajuste aux données de manière moins précise à mesure qu'il apprend à généraliser avec davantage de données.\n",
    "\n",
    "#### Erreur de validation (courbe orange) :\n",
    "\n",
    "L'erreur de validation est élevée au début, car l'ensemble d'entraînement est trop petit pour fournir un modèle généralisable.\n",
    "À mesure que la taille de l'ensemble d'entraînement augmente, l'erreur diminue puis se stabilise.\n",
    "Convergence des courbes :\n",
    "\n",
    "Les erreurs d'entraînement et de validation se rapprochent à mesure que la taille de l'ensemble d'entraînement augmente, ce qui indique que le modèle généralise bien.\n",
    "La convergence montre que le modèle n'est ni en sous-apprentissage (les erreurs seraient toutes élevées) ni en sur-apprentissage (l'écart entre les deux courbes serait important).\n",
    "\n",
    "#### Plateau des erreurs :\n",
    "\n",
    "Les deux courbes atteignent un plateau autour de 1000 exemples. Ajouter davantage de données à ce stade n'améliorera probablement pas significativement les performances du modèle.\n",
    "\n",
    "#### Conclusion :\n",
    "La courbe d'apprentissage montre que le modèle est bien équilibré, avec une capacité à généraliser correctement sans signes significatifs de sur-apprentissage ou de sous-apprentissage."
   ]
  },
  {
   "cell_type": "markdown",
   "metadata": {},
   "source": [
    "### 6. Compromis biais-variance\n",
    "Objectif : Évaluer si le modèle est équilibré entre biais et variance."
   ]
  },
  {
   "cell_type": "code",
   "execution_count": 25,
   "metadata": {},
   "outputs": [
    {
     "name": "stdout",
     "output_type": "stream",
     "text": [
      "Compromis biais-variance :\n",
      "Biais : 0.41480783236028473\n",
      "Variance : 0.021762495519476677\n"
     ]
    }
   ],
   "source": [
    "# Calcul des biais et variances à partir de la courbe d'apprentissage\n",
    "biais = train_mean[-1]\n",
    "variance = test_mean[-1] - train_mean[-1]\n",
    "\n",
    "print(\"Compromis biais-variance :\")\n",
    "print(\"Biais :\", biais)\n",
    "print(\"Variance :\", variance)"
   ]
  },
  {
   "cell_type": "markdown",
   "metadata": {},
   "source": [
    "Biais : 0.4148\n",
    "\n",
    "Variance : 0.0218\n",
    "\n",
    "Interprétation : Le biais est modéré, indiquant que le modèle simplifie suffisamment les relations dans les données. La faible variance montre que le modèle est stable et robuste face aux variations dans les données."
   ]
  },
  {
   "cell_type": "markdown",
   "metadata": {},
   "source": [
    "### 7. Ridge et Lasso (Régularisation)\n",
    "Objectif : Améliorer la régression linéaire avec des régularisations L2 (Ridge) et L1 (Lasso)."
   ]
  },
  {
   "cell_type": "code",
   "execution_count": 26,
   "metadata": {},
   "outputs": [
    {
     "name": "stdout",
     "output_type": "stream",
     "text": [
      "Ridge :\n",
      "Erreur d'entraînement : 0.42487477917645844\n",
      "Erreur de test : 0.3929488678812797\n",
      "Lasso :\n",
      "Erreur d'entraînement : 0.4967121306252359\n",
      "Erreur de test : 0.49867516307447735\n"
     ]
    }
   ],
   "source": [
    "from sklearn.linear_model import Ridge, Lasso\n",
    "\n",
    "# Modèles Ridge et Lasso\n",
    "ridge = Ridge(alpha=1.0)\n",
    "lasso = Lasso(alpha=0.1)\n",
    "\n",
    "# Entraînement\n",
    "ridge.fit(X_train, y_train)\n",
    "lasso.fit(X_train, y_train)\n",
    "\n",
    "# Erreurs Ridge\n",
    "ridge_train_error = mean_squared_error(y_train, ridge.predict(X_train))\n",
    "ridge_test_error = mean_squared_error(y_test, ridge.predict(X_test))\n",
    "\n",
    "# Erreurs Lasso\n",
    "lasso_train_error = mean_squared_error(y_train, lasso.predict(X_train))\n",
    "lasso_test_error = mean_squared_error(y_test, lasso.predict(X_test))\n",
    "\n",
    "print(\"Ridge :\")\n",
    "print(\"Erreur d'entraînement :\", ridge_train_error)\n",
    "print(\"Erreur de test :\", ridge_test_error)\n",
    "\n",
    "print(\"Lasso :\")\n",
    "print(\"Erreur d'entraînement :\", lasso_train_error)\n",
    "print(\"Erreur de test :\", lasso_test_error)"
   ]
  },
  {
   "cell_type": "markdown",
   "metadata": {},
   "source": [
    "#### Ridge :\n",
    "Erreur d'entraînement : 0.4249\n",
    "Erreur de test : 0.3929\n",
    "Interprétation : Ridge réduit légèrement la variance du modèle de régression linéaire, avec des performances similaires entre l'entraînement et le test.\n",
    "\n",
    "#### Lasso :\n",
    "Erreur d'entraînement : 0.4967\n",
    "Erreur de test : 0.4987\n",
    "Interprétation : Lasso pénalise fortement les coefficients, ce qui réduit la complexité du modèle, mais au prix d'une augmentation des erreurs."
   ]
  },
  {
   "cell_type": "markdown",
   "metadata": {},
   "source": [
    "### 8. Interprétation des coefficients\n",
    "Objectif : Comprendre l’impact des variables explicatives dans les modèles Ridge et Lasso."
   ]
  },
  {
   "cell_type": "code",
   "execution_count": 27,
   "metadata": {},
   "outputs": [
    {
     "name": "stdout",
     "output_type": "stream",
     "text": [
      "Coefficients Ridge :\n",
      "                 Feature  Coefficient (Ridge)\n",
      "9              sulphates             0.746956\n",
      "10               alcohol             0.297591\n",
      "0          fixed acidity             0.019614\n",
      "5    free sulfur dioxide             0.005686\n",
      "3         residual sugar             0.000624\n",
      "6   total sulfur dioxide            -0.003561\n",
      "7                density            -0.011153\n",
      "2            citric acid            -0.164270\n",
      "8                     pH            -0.376223\n",
      "1       volatile acidity            -1.021529\n",
      "4              chlorides            -1.226774\n",
      "Coefficients Lasso :\n",
      "                 Feature  Coefficient (Lasso)\n",
      "10               alcohol             0.250518\n",
      "0          fixed acidity             0.029804\n",
      "5    free sulfur dioxide             0.006538\n",
      "2            citric acid             0.000000\n",
      "1       volatile acidity            -0.000000\n",
      "4              chlorides            -0.000000\n",
      "3         residual sugar            -0.000000\n",
      "8                     pH            -0.000000\n",
      "7                density            -0.000000\n",
      "9              sulphates             0.000000\n",
      "6   total sulfur dioxide            -0.004184\n"
     ]
    }
   ],
   "source": [
    "# Coefficients Ridge\n",
    "ridge_coefficients = pd.DataFrame({\n",
    "    \"Feature\": X.columns,\n",
    "    \"Coefficient (Ridge)\": ridge.coef_\n",
    "}).sort_values(by=\"Coefficient (Ridge)\", ascending=False)\n",
    "\n",
    "# Coefficients Lasso\n",
    "lasso_coefficients = pd.DataFrame({\n",
    "    \"Feature\": X.columns,\n",
    "    \"Coefficient (Lasso)\": lasso.coef_\n",
    "}).sort_values(by=\"Coefficient (Lasso)\", ascending=False)\n",
    "\n",
    "print(\"Coefficients Ridge :\")\n",
    "print(ridge_coefficients)\n",
    "\n",
    "print(\"Coefficients Lasso :\")\n",
    "print(lasso_coefficients)"
   ]
  },
  {
   "cell_type": "markdown",
   "metadata": {},
   "source": [
    "#### Coefficients Ridge :\n",
    "Les variables les plus influentes :\n",
    "\n",
    "Sulphates (0.747) et Alcohol (0.298) : Influence positive significative sur la qualité.\n",
    "\n",
    "Chlorides (-1.227) et Volatile acidity (-1.022) : Influence négative majeure.\n",
    "\n",
    "Interprétation : Ridge conserve toutes les variables en ajustant leurs contributions, ce qui permet une modélisation plus complète.\n",
    "\n",
    "#### Coefficients Lasso :\n",
    "Les variables significatives :\n",
    "\n",
    "Alcohol (0.251) : Seule variable significative avec une influence positive.\n",
    "\n",
    "Interprétation : Lasso simplifie le modèle en éliminant les variables moins pertinentes, ne conservant que les plus importantes pour expliquer la qualité."
   ]
  },
  {
   "cell_type": "markdown",
   "metadata": {},
   "source": [
    "### 9. Évaluation finale avec les métriques de régression\n",
    "Objectif : Comparer les modèles en termes de métriques finales."
   ]
  },
  {
   "cell_type": "code",
   "execution_count": 28,
   "metadata": {},
   "outputs": [
    {
     "name": "stdout",
     "output_type": "stream",
     "text": [
      "Linear Regression:\n",
      "  MSE : 0.39002514396395416\n",
      "  R2  : 0.4031803412796231\n",
      "Ridge:\n",
      "  MSE : 0.3929488678812797\n",
      "  R2  : 0.39870643507758574\n",
      "Lasso:\n",
      "  MSE : 0.49867516307447735\n",
      "  R2  : 0.23692319522368122\n"
     ]
    }
   ],
   "source": [
    "from sklearn.metrics import r2_score\n",
    "\n",
    "# Calcul des métriques pour chaque modèle\n",
    "models = {\"Linear Regression\": lin_reg, \"Ridge\": ridge, \"Lasso\": lasso}\n",
    "\n",
    "for name, model in models.items():\n",
    "    y_pred = model.predict(X_test)\n",
    "    mse = mean_squared_error(y_test, y_pred)\n",
    "    r2 = r2_score(y_test, y_pred)\n",
    "    print(f\"{name}:\")\n",
    "    print(f\"  MSE : {mse}\")\n",
    "    print(f\"  R2  : {r2}\")"
   ]
  },
  {
   "cell_type": "markdown",
   "metadata": {},
   "source": [
    "#### Régression linéaire :\n",
    "\n",
    "MSE : 0.3900, R² : 0.4032\n",
    "\n",
    "Interprétation : La régression linéaire donne un modèle performant avec une erreur modérée et un R² indiquant que 40.32 % de la \n",
    "variance de la qualité est expliquée.\n",
    "\n",
    "#### Ridge :\n",
    "\n",
    "MSE : 0.3929, R² : 0.3987\n",
    "\n",
    "Interprétation : Ridge est légèrement moins performant que la régression linéaire brute, mais apporte une meilleure régularisation et stabilité.\n",
    "\n",
    "#### Lasso :\n",
    "\n",
    "MSE : 0.4987, R² : 0.2369\n",
    "\n",
    "Interprétation : Lasso montre des performances inférieures, avec une réduction notable de R², ce qui reflète une perte d'information due à l'élimination de certaines variables."
   ]
  },
  {
   "cell_type": "markdown",
   "metadata": {},
   "source": [
    "# Notions mises en place pour la Classification"
   ]
  },
  {
   "cell_type": "markdown",
   "metadata": {},
   "source": [
    "### 1. Transformation de la variable cible pour la classification"
   ]
  },
  {
   "cell_type": "code",
   "execution_count": 29,
   "metadata": {},
   "outputs": [],
   "source": [
    "wine_data_classification = pd.read_csv(\"winequality-red-modified.csv\")"
   ]
  },
  {
   "cell_type": "code",
   "execution_count": 30,
   "metadata": {},
   "outputs": [
    {
     "name": "stdout",
     "output_type": "stream",
     "text": [
      "   quality  quality_class\n",
      "0        5              0\n",
      "1        5              0\n",
      "2        5              0\n",
      "3        6              1\n",
      "4        5              0\n"
     ]
    }
   ],
   "source": [
    "# Transformation de la variable \"quality\" en classes binaires (par exemple, qualité >= 6 comme classe positive)\n",
    "wine_data_classification[\"quality_class\"] = (wine_data_classification[\"quality\"] >= 6).astype(int)\n",
    "\n",
    "# Vérification des premières lignes\n",
    "print(wine_data_classification[[\"quality\", \"quality_class\"]].head())"
   ]
  },
  {
   "cell_type": "markdown",
   "metadata": {},
   "source": [
    "#### Interprétation : La variable quality a été transformée en une classification binaire :\n",
    "Classe 0 : Qualité basse (quality < 6).\n",
    "\n",
    "Classe 1 : Qualité haute (quality ≥ 6).\n",
    "\n",
    "Cette transformation prépare les données pour une classification supervisée."
   ]
  },
  {
   "cell_type": "markdown",
   "metadata": {},
   "source": [
    "### 2. Division des données pour l'entraînement et le test"
   ]
  },
  {
   "cell_type": "code",
   "execution_count": 32,
   "metadata": {},
   "outputs": [
    {
     "name": "stdout",
     "output_type": "stream",
     "text": [
      "Entraînement : (1279, 11) (1279,)\n",
      "Test : (320, 11) (320,)\n"
     ]
    }
   ],
   "source": [
    "from sklearn.model_selection import train_test_split\n",
    "\n",
    "# Séparation des variables explicatives (X) et de la cible (y)\n",
    "X = wine_data_classification.drop([\"quality\", \"quality_class\"], axis=1)\n",
    "y = wine_data_classification[\"quality_class\"]\n",
    "\n",
    "# Division en ensembles d'entraînement et de test\n",
    "X_train, X_test, y_train, y_test = train_test_split(X, y, test_size=0.2, random_state=42)\n",
    "\n",
    "# Vérification des dimensions\n",
    "print(\"Entraînement :\", X_train.shape, y_train.shape)\n",
    "print(\"Test :\", X_test.shape, y_test.shape)"
   ]
  },
  {
   "cell_type": "markdown",
   "metadata": {},
   "source": [
    "Entraînement : 1279 observations (80 % des données) avec 11 variables explicatives.\n",
    "\n",
    "Test : 320 observations (20 % des données) avec 11 variables explicatives.\n",
    "\n",
    "Interprétation : Les données sont correctement divisées, permettant un entraînement et une évaluation séparés."
   ]
  },
  {
   "cell_type": "markdown",
   "metadata": {},
   "source": [
    "### 3. Validation croisée avec un modèle de classification (Régression Logistique)"
   ]
  },
  {
   "cell_type": "code",
   "execution_count": 33,
   "metadata": {},
   "outputs": [
    {
     "name": "stdout",
     "output_type": "stream",
     "text": [
      "Validation croisée :\n",
      "Exactitude moyenne : 0.7428155637254902\n",
      "Écart type : 0.032618225047571024\n"
     ]
    }
   ],
   "source": [
    "from sklearn.linear_model import LogisticRegression\n",
    "from sklearn.model_selection import cross_val_score\n",
    "\n",
    "# Modèle de régression logistique\n",
    "log_reg = LogisticRegression(max_iter=1000)\n",
    "\n",
    "# Validation croisée (5 plis) en utilisant l'exactitude comme métrique\n",
    "cv_scores = cross_val_score(log_reg, X_train, y_train, cv=5, scoring=\"accuracy\")\n",
    "\n",
    "# Moyenne et écart type des scores\n",
    "cv_mean = cv_scores.mean()\n",
    "cv_std = cv_scores.std()\n",
    "\n",
    "print(\"Validation croisée :\")\n",
    "print(\"Exactitude moyenne :\", cv_mean)\n",
    "print(\"Écart type :\", cv_std)"
   ]
  },
  {
   "cell_type": "markdown",
   "metadata": {},
   "source": [
    "Exactitude moyenne : 0.7428\n",
    "\n",
    "Écart type : 0.0326\n",
    "\n",
    "Interprétation : Le modèle de régression logistique montre une performance stable, avec une précision moyenne de 74.28 % et une faible variation entre les différents plis de validation."
   ]
  },
  {
   "cell_type": "markdown",
   "metadata": {},
   "source": [
    "### 4. Entraînement et évaluation des erreurs (Analyse biais-variance)"
   ]
  },
  {
   "cell_type": "code",
   "execution_count": 34,
   "metadata": {},
   "outputs": [
    {
     "name": "stdout",
     "output_type": "stream",
     "text": [
      "Exactitude sur l'ensemble d'entraînement : 0.7490226739640344\n",
      "Exactitude sur l'ensemble de test : 0.740625\n"
     ]
    }
   ],
   "source": [
    "# Entraînement du modèle sur l'ensemble d'entraînement\n",
    "log_reg.fit(X_train, y_train)\n",
    "\n",
    "# Prédictions et évaluation sur l'entraînement et le test\n",
    "train_accuracy = log_reg.score(X_train, y_train)\n",
    "test_accuracy = log_reg.score(X_test, y_test)\n",
    "\n",
    "print(\"Exactitude sur l'ensemble d'entraînement :\", train_accuracy)\n",
    "print(\"Exactitude sur l'ensemble de test :\", test_accuracy)"
   ]
  },
  {
   "cell_type": "markdown",
   "metadata": {},
   "source": [
    "Entraînement : 74.90 %\n",
    "\n",
    "Test : 74.06 %\n",
    "\n",
    "Interprétation : Les exactitudes sur l'entraînement et le test sont similaires, indiquant que le modèle généralise bien et qu’il n’y a pas de sur-apprentissage significatif."
   ]
  },
  {
   "cell_type": "markdown",
   "metadata": {},
   "source": [
    "### 5. Tracer et interpréter la courbe d'apprentissage"
   ]
  },
  {
   "cell_type": "code",
   "execution_count": 35,
   "metadata": {},
   "outputs": [
    {
     "data": {
      "image/png": "[encoded data removed]",
      "text/plain": [
       "<Figure size 800x600 with 1 Axes>"
      ]
     },
     "metadata": {},
     "output_type": "display_data"
    }
   ],
   "source": [
    "from sklearn.model_selection import learning_curve\n",
    "import matplotlib.pyplot as plt\n",
    "import numpy as np\n",
    "\n",
    "# Courbe d'apprentissage\n",
    "train_sizes, train_scores, test_scores = learning_curve(\n",
    "    log_reg, X, y, cv=5, scoring=\"accuracy\", train_sizes=np.linspace(0.1, 1.0, 10)\n",
    ")\n",
    "\n",
    "# Moyennes et écarts-types\n",
    "train_mean = train_scores.mean(axis=1)\n",
    "train_std = train_scores.std(axis=1)\n",
    "test_mean = test_scores.mean(axis=1)\n",
    "test_std = test_scores.std(axis=1)\n",
    "\n",
    "# Tracé\n",
    "plt.figure(figsize=(8, 6))\n",
    "plt.plot(train_sizes, train_mean, label=\"Exactitude d'entraînement\", marker=\"o\")\n",
    "plt.fill_between(train_sizes, train_mean - train_std, train_mean + train_std, alpha=0.1)\n",
    "plt.plot(train_sizes, test_mean, label=\"Exactitude de validation\", marker=\"o\")\n",
    "plt.fill_between(train_sizes, test_mean - test_std, test_mean + test_std, alpha=0.1)\n",
    "plt.xlabel(\"Taille de l'ensemble d'entraînement\")\n",
    "plt.ylabel(\"Exactitude\")\n",
    "plt.title(\"Courbe d'apprentissage\")\n",
    "plt.legend()\n",
    "plt.grid()\n",
    "plt.show()"
   ]
  },
  {
   "cell_type": "markdown",
   "metadata": {},
   "source": [
    "#### Exactitude d'entraînement (courbe bleue) :\n",
    "\n",
    "L'exactitude est initialement élevée avec de petits ensembles d'entraînement, car le modèle s'ajuste parfaitement à un petit nombre de données.\n",
    "\n",
    "À mesure que la taille de l'ensemble d'entraînement augmente, l'exactitude diminue légèrement, puis se stabilise autour de 74 %, indiquant que le modèle commence à généraliser correctement.\n",
    "\n",
    "#### Exactitude de validation (courbe orange) :\n",
    "\n",
    "L'exactitude est plus faible au départ (environ 70 %) car le modèle est formé sur un petit nombre de données, limitant sa capacité à généraliser.\n",
    "\n",
    "Elle augmente progressivement avec la taille de l'ensemble d'entraînement et se stabilise autour de 74 %, convergeant avec la courbe d'entraînement.\n",
    "\n",
    "#### Convergence des courbes :\n",
    "\n",
    "Les courbes d'entraînement et de validation convergent à une exactitude similaire lorsque l'ensemble d'entraînement est suffisamment grand.\n",
    "\n",
    "Cela indique que le modèle n'est ni en sur-apprentissage (écart important entre les deux courbes) ni en sous-apprentissage (exactitudes faibles pour les deux).\n",
    "\n",
    "#### Plateau des courbes :\n",
    "\n",
    "Les deux courbes atteignent un plateau lorsque la taille de l'ensemble d'entraînement dépasse environ 800 exemples.\n",
    "\n",
    "Ajouter davantage de données d'entraînement n'améliorera probablement pas significativement les performances.\n",
    "\n",
    "#### Conclusion :\n",
    "La courbe d'apprentissage montre que le modèle est bien équilibré, avec une bonne capacité de généralisation sans signes significatifs de sur-apprentissage ou de sous-apprentissage."
   ]
  },
  {
   "cell_type": "markdown",
   "metadata": {},
   "source": [
    "### 6. Comparaison biais-variance (analyse qualitative)"
   ]
  },
  {
   "cell_type": "code",
   "execution_count": 36,
   "metadata": {},
   "outputs": [
    {
     "name": "stdout",
     "output_type": "stream",
     "text": [
      "Biais : 0.25207193119624705\n",
      "Variance : 0.016207849368016336\n"
     ]
    }
   ],
   "source": [
    "# Calcul qualitatif des biais et de la variance\n",
    "biais = 1 - train_mean[-1]  # 1 - Exactitude d'entraînement finale\n",
    "variance = train_mean[-1] - test_mean[-1]  # Différence entre les exactitudes d'entraînement et de validation\n",
    "\n",
    "print(\"Biais :\", biais)\n",
    "print(\"Variance :\", variance)"
   ]
  },
  {
   "cell_type": "markdown",
   "metadata": {},
   "source": [
    "Biais : 0.2521\n",
    "\n",
    "Variance : 0.0162\n",
    "\n",
    "Interprétation :\n",
    "Le biais (erreur résiduelle) est modéré, ce qui montre que le modèle a une capacité limitée à capturer la complexité des données.\n",
    "La faible variance indique que le modèle est stable et peu sensible aux variations entre les ensembles d'entraînement et de validation."
   ]
  },
  {
   "cell_type": "markdown",
   "metadata": {},
   "source": [
    "### 7. Application de Ridge et Lasso à la régression logistique"
   ]
  },
  {
   "cell_type": "code",
   "execution_count": 37,
   "metadata": {},
   "outputs": [
    {
     "name": "stdout",
     "output_type": "stream",
     "text": [
      "Exactitude Ridge : 0.74375\n",
      "Exactitude Lasso : 0.740625\n"
     ]
    }
   ],
   "source": [
    "from sklearn.linear_model import LogisticRegressionCV\n",
    "\n",
    "# Régression logistique avec régularisation Ridge (penalty='l2') et Lasso (penalty='l1')\n",
    "ridge_log_reg = LogisticRegressionCV(cv=5, penalty='l2', solver='lbfgs', max_iter=1000)\n",
    "lasso_log_reg = LogisticRegressionCV(cv=5, penalty='l1', solver='liblinear', max_iter=1000)\n",
    "\n",
    "# Entraînement des modèles\n",
    "ridge_log_reg.fit(X_train, y_train)\n",
    "lasso_log_reg.fit(X_train, y_train)\n",
    "\n",
    "# Exactitude sur le test\n",
    "ridge_accuracy = ridge_log_reg.score(X_test, y_test)\n",
    "lasso_accuracy = lasso_log_reg.score(X_test, y_test)\n",
    "\n",
    "print(\"Exactitude Ridge :\", ridge_accuracy)\n",
    "print(\"Exactitude Lasso :\", lasso_accuracy)"
   ]
  },
  {
   "cell_type": "markdown",
   "metadata": {},
   "source": [
    "Ridge : 74.38 %\n",
    "\n",
    "Lasso : 74.06 %\n",
    "\n",
    "Interprétation :\n",
    "La régularisation Ridge et Lasso donne des performances similaires à la régression logistique simple.\n",
    "L’impact de la régularisation sur la précision est limité, mais elle aide à mieux gérer les coefficients."
   ]
  },
  {
   "cell_type": "markdown",
   "metadata": {},
   "source": [
    "### 8. Interprétation des coefficients (Ridge et Lasso)"
   ]
  },
  {
   "cell_type": "code",
   "execution_count": 38,
   "metadata": {},
   "outputs": [
    {
     "name": "stdout",
     "output_type": "stream",
     "text": [
      "Coefficients Ridge :\n",
      "                 Feature  Coefficient (Ridge)\n",
      "9              sulphates             2.626728\n",
      "10               alcohol             0.918034\n",
      "7                density             0.387080\n",
      "0          fixed acidity             0.099011\n",
      "5    free sulfur dioxide             0.030287\n",
      "3         residual sugar             0.004421\n",
      "6   total sulfur dioxide            -0.018374\n",
      "8                     pH            -0.421864\n",
      "2            citric acid            -1.072389\n",
      "1       volatile acidity            -3.002954\n",
      "4              chlorides            -3.775827\n",
      "Coefficients Lasso :\n",
      "                 Feature  Coefficient (Lasso)\n",
      "9              sulphates             2.605739\n",
      "10               alcohol             0.911240\n",
      "0          fixed acidity             0.089602\n",
      "5    free sulfur dioxide             0.030494\n",
      "3         residual sugar             0.005630\n",
      "6   total sulfur dioxide            -0.018555\n",
      "8                     pH            -0.550313\n",
      "2            citric acid            -1.031913\n",
      "1       volatile acidity            -2.981346\n",
      "7                density            -3.532160\n",
      "4              chlorides            -3.758707\n"
     ]
    }
   ],
   "source": [
    "# Coefficients pour Ridge\n",
    "ridge_coefficients = pd.DataFrame({\n",
    "    \"Feature\": X.columns,\n",
    "    \"Coefficient (Ridge)\": ridge_log_reg.coef_[0]\n",
    "}).sort_values(by=\"Coefficient (Ridge)\", ascending=False)\n",
    "\n",
    "# Coefficients pour Lasso\n",
    "lasso_coefficients = pd.DataFrame({\n",
    "    \"Feature\": X.columns,\n",
    "    \"Coefficient (Lasso)\": lasso_log_reg.coef_[0]\n",
    "}).sort_values(by=\"Coefficient (Lasso)\", ascending=False)\n",
    "\n",
    "print(\"Coefficients Ridge :\")\n",
    "print(ridge_coefficients)\n",
    "\n",
    "print(\"Coefficients Lasso :\")\n",
    "print(lasso_coefficients)"
   ]
  },
  {
   "cell_type": "markdown",
   "metadata": {},
   "source": [
    "Interprétation :\n",
    "\n",
    "Variables importantes :\n",
    "\n",
    "Sulphates et Alcohol ont les plus grands coefficients positifs, ce qui signifie qu'ils augmentent la probabilité d'une qualité élevée.\n",
    "\n",
    "Chlorides et Volatile Acidity ont des coefficients négatifs importants, indiquant qu'ils diminuent la probabilité d'une qualité élevée.\n",
    "\n",
    "Les coefficients Ridge et Lasso sont similaires, mais Lasso tend à réduire davantage les valeurs proches de zéro."
   ]
  },
  {
   "cell_type": "markdown",
   "metadata": {},
   "source": [
    "### 9. Évaluation finale avec les métriques de classification"
   ]
  },
  {
   "cell_type": "code",
   "execution_count": 39,
   "metadata": {},
   "outputs": [
    {
     "name": "stdout",
     "output_type": "stream",
     "text": [
      "Rapport de classification (Ridge) :\n",
      "              precision    recall  f1-score    support\n",
      "0              0.695364  0.744681  0.719178  141.00000\n",
      "1              0.786982  0.743017  0.764368  179.00000\n",
      "accuracy       0.743750  0.743750  0.743750    0.74375\n",
      "macro avg      0.741173  0.743849  0.741773  320.00000\n",
      "weighted avg   0.746613  0.743750  0.744456  320.00000\n"
     ]
    }
   ],
   "source": [
    "from sklearn.metrics import classification_report\n",
    "\n",
    "# Prédictions avec le modèle Ridge\n",
    "y_pred_ridge = ridge_log_reg.predict(X_test)\n",
    "\n",
    "# Rapport de classification\n",
    "classification_metrics = classification_report(y_test, y_pred_ridge, output_dict=True)\n",
    "classification_metrics_df = pd.DataFrame(classification_metrics).transpose()\n",
    "\n",
    "print(\"Rapport de classification (Ridge) :\")\n",
    "print(classification_metrics_df)"
   ]
  },
  {
   "cell_type": "markdown",
   "metadata": {},
   "source": [
    "Interprétation :\n",
    "\n",
    "Précision : Le modèle est plus fiable pour prédire les observations de haute qualité (78.70 % de précision).\n",
    "\n",
    "Rappel : Le modèle détecte de manière équilibrée les deux classes (74 % pour les deux classes).\n",
    "\n",
    "F1-Score : Le score F1 global de 74.38 % montre un bon équilibre entre précision et rappel.\n",
    "\n",
    "La classe haute qualité (1) est légèrement mieux prédite que la classe basse qualité (0)."
   ]
  },
  {
   "cell_type": "markdown",
   "metadata": {},
   "source": [
    "# Conclusion : Comparaison de l’utilisation des notions en régression et en classification\n",
    "\n",
    "L’application des notions en régression et en classification repose sur des bases similaires, mais leur mise en œuvre et leur interprétation diffèrent en fonction de la nature des tâches. Voici une synthèse des différences et des similitudes observées :\n",
    "\n",
    "## 1. Nature de la cible et des modèles\n",
    "**Régression** : La variable cible est continue, et les modèles cherchent à minimiser des erreurs quantitatives comme le MSE. Les modèles principaux incluent la régression linéaire, Ridge, et Lasso.\n",
    "\n",
    "**Classification** : La variable cible est catégorique. Les modèles visent à maximiser des métriques comme la précision, le rappel ou le F1-score. Les modèles incluent la régression logistique, Random Forest et les variantes régularisées comme Ridge et Lasso appliqués à la classification.\n",
    "\n",
    "## 2. Validation croisée\n",
    "**Régression** : Évalue les performances des modèles à l’aide de métriques comme l’erreur quadratique moyenne (MSE) et son écart-type.\n",
    "\n",
    "**Classification** : Utilise des métriques adaptées comme l’exactitude, le rappel ou le F1-score, qui mesurent la capacité du modèle à bien discriminer les classes.\n",
    "\n",
    "**Observation** : Dans les deux cas, la validation croisée permet de vérifier la stabilité et la robustesse des modèles, mais les métriques utilisées diffèrent selon le type de tâche.\n",
    "\n",
    "## 3. Analyse biais-variance\n",
    "**Régression** : Le compromis biais-variance est interprété via les erreurs d’entraînement et de validation (par exemple, MSE). Un faible biais reflète une meilleure capacité à capturer la complexité des données.\n",
    "\n",
    "**Classification** : Ici, le biais et la variance sont examinés à travers les exactitudes d’entraînement et de validation, ou via des métriques comme le F1-score. Une faible variance indique une meilleure généralisation entre les classes.\n",
    "\n",
    "**Observation** : L’analyse biais-variance reste un outil clé pour évaluer la complexité du modèle, bien que les mesures varient entre régression et classification.\n",
    "\n",
    "## 4. Courbe d’apprentissage\n",
    "**Régression** : La courbe d’apprentissage examine comment les erreurs d’entraînement et de validation évoluent avec la taille des données. Une convergence des courbes indique une généralisation correcte.\n",
    "\n",
    "**Classification** : Ici, la courbe est tracée à l’aide de l’exactitude ou du F1-score pour évaluer comment le modèle améliore sa capacité à discriminer les classes avec plus de données.\n",
    "\n",
    "**Observation** : Les courbes d’apprentissage sont similaires en régression et en classification pour évaluer la généralisation, bien que les métriques diffèrent.\n",
    "\n",
    "## 5. Régularisation (Ridge et Lasso)\n",
    "**Régression** : Ridge (L2) et Lasso (L1) sont utilisés pour contrôler la complexité des coefficients des modèles, améliorer la robustesse, et gérer les problèmes de multicolinéarité.\n",
    "\n",
    "**Classification** : Dans le contexte de la régression logistique, Ridge et Lasso jouent un rôle similaire, en pénalisant les coefficients pour réduire la sur-optimisation, tout en permettant une sélection de variables (Lasso).\n",
    "\n",
    "**Observation** : La régularisation est un outil universel, appliqué pour améliorer la stabilité et réduire la complexité du modèle, que ce soit en régression ou en classification.\n",
    "\n",
    "## 6. Interprétation des coefficients\n",
    "**Régression** : Les coefficients des modèles (par exemple, régression linéaire ou Ridge) montrent l’impact direct de chaque variable explicative sur la cible continue.\n",
    "\n",
    "**Classification** : Les coefficients des modèles (comme la régression logistique) indiquent l’impact des variables sur la probabilité d’appartenance à une classe spécifique.\n",
    "\n",
    "**Observation** : L’interprétation des coefficients est plus intuitive en régression, tandis qu’en classification, elle doit être reliée à des probabilités ou des log-odds.\n",
    "\n",
    "## 7. Métriques d’évaluation\n",
    "**Régression** : Utilise des métriques continues comme le MSE, le MAE ou le R², qui mesurent la capacité du modèle à prédire des valeurs précises.\n",
    "\n",
    "**Classification** : Utilise des métriques adaptées aux classes discrètes comme la précision, le rappel, le F1-score ou la matrice de confusion pour évaluer les performances sur chaque classe.\n",
    "\n",
    "**Observation** : Les métriques d’évaluation diffèrent fondamentalement, car la nature de l’objectif (valeur continue vs classes discrètes) est différente.\n",
    "\n",
    "## Conclusion globale\n",
    "Bien que les notions fondamentales (validation croisée, biais-variance, régularisation, courbe d’apprentissage) soient applicables à la fois en régression et en classification, leur mise en œuvre et leur interprétation diffèrent en fonction du type de tâche.\n",
    "\n",
    "En régression, l'accent est mis sur la minimisation des erreurs quantitatives et la gestion de la complexité du modèle. En classification, les efforts sont orientés vers la capacité à discriminer correctement les classes et à équilibrer les métriques comme la précision et le rappel. Ces différences reflètent les spécificités des deux approches, tout en partageant des outils communs pour construire des modèles robustes et performants."
   ]
  }
 ],
 "metadata": {
  "kernelspec": {
   "display_name": ".venv",
   "language": "python",
   "name": "python3"
  },
  "language_info": {
   "codemirror_mode": {
    "name": "ipython",
    "version": 3
   },
   "file_extension": ".py",
   "mimetype": "text/x-python",
   "name": "python",
   "nbconvert_exporter": "python",
   "pygments_lexer": "ipython3",
   "version": "3.12.4"
  }
 },
 "nbformat": 4,
 "nbformat_minor": 2
}
