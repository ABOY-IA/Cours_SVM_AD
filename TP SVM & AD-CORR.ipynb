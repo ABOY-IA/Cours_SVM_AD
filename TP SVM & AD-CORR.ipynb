{
 "cells": [
  {
   "cell_type": "markdown",
   "id": "403f7ac0",
   "metadata": {},
   "source": [
    "# TP: implementation de  quelques algorithmes populaires (SVM et AD)"
   ]
  },
  {
   "cell_type": "markdown",
   "id": "2f9a664d",
   "metadata": {},
   "source": [
    "Explorons une application sur le dataset [auto MGP](https://archive.ics.uci.edu/ml/datasets/Auto%2BMPG): contient des données sur des modèles de voitures"
   ]
  },
  {
   "cell_type": "code",
   "execution_count": null,
   "id": "8771ae20",
   "metadata": {},
   "outputs": [],
   "source": [
    "import pandas as pd\n",
    "import numpy as np\n",
    "import matplotlib.pyplot as plt\n",
    "import seaborn as sns\n",
    "data = pd.read_csv('https://filedn.eu/lefeldrXcsSFgCcgc48eaLY/datasets/regression/auto-mpg.csv',index_col='car name')\n",
    "data.head()"
   ]
  },
  {
   "cell_type": "code",
   "execution_count": null,
   "id": "5ba77837",
   "metadata": {},
   "outputs": [],
   "source": [
    "data['origin'].value_counts()"
   ]
  },
  {
   "cell_type": "markdown",
   "id": "ef6128a8",
   "metadata": {},
   "source": [
    "- `mpg`: miles par galion\n",
    "- `cylinder`: nombre de cylindres\n",
    "- `displacement`: volume des pistons (en cc)\n",
    "- `horsepower`: chevaux fiscaux\n",
    "- `weight`: poids\n",
    "- `acceleration`: acceleration (en s)"
   ]
  },
  {
   "cell_type": "markdown",
   "id": "3af155e5",
   "metadata": {},
   "source": [
    "**Le but est de prédire la variable `mpg` en fonction des autres features**"
   ]
  },
  {
   "cell_type": "markdown",
   "id": "11602170",
   "metadata": {},
   "source": [
    "## Préparation des données"
   ]
  },
  {
   "cell_type": "markdown",
   "id": "0b5f7759",
   "metadata": {},
   "source": [
    "### Nettoyer des données"
   ]
  },
  {
   "cell_type": "markdown",
   "id": "3e19332f",
   "metadata": {},
   "source": [
    "- Explorer les variables avec les fonctions `describe` et `info`.\n",
    "- Y a-t-il des valeurs manquantes dans les données ?\n",
    "- Toutes les variables sont-elles du bon type ?\n",
    "- Comment allez-vous traiter les anomalies dans la variable `horsepower` ?\n",
    "- Quelles sont les variables fortement corrélées à la variable cible ?\n"
   ]
  },
  {
   "cell_type": "code",
   "execution_count": null,
   "id": "a4260da5",
   "metadata": {},
   "outputs": [],
   "source": [
    "data.shape"
   ]
  },
  {
   "cell_type": "code",
   "execution_count": null,
   "id": "8d56b145",
   "metadata": {},
   "outputs": [],
   "source": [
    "data.info()"
   ]
  },
  {
   "cell_type": "code",
   "execution_count": null,
   "id": "e9921038",
   "metadata": {},
   "outputs": [],
   "source": [
    "data.describe()"
   ]
  },
  {
   "cell_type": "code",
   "execution_count": null,
   "id": "8e5eed41",
   "metadata": {},
   "outputs": [],
   "source": [
    "data.isnull().sum()"
   ]
  },
  {
   "cell_type": "code",
   "execution_count": null,
   "id": "dd59ed2c",
   "metadata": {},
   "outputs": [],
   "source": [
    "data['horsepower'].unique() #value_counts()"
   ]
  },
  {
   "cell_type": "code",
   "execution_count": null,
   "id": "16f505cb",
   "metadata": {},
   "outputs": [],
   "source": [
    "data.horsepower[data.horsepower == '?'].count()"
   ]
  },
  {
   "cell_type": "markdown",
   "id": "11a13f52",
   "metadata": {},
   "source": [
    "Les valeurs manquantes étant peu nombreuses, on choisit de les imputer par un knn imputer : "
   ]
  },
  {
   "cell_type": "code",
   "execution_count": null,
   "id": "f505368b",
   "metadata": {},
   "outputs": [],
   "source": [
    "data['horsepower'] = data['horsepower'].replace(to_replace='?', value=np.nan)"
   ]
  },
  {
   "cell_type": "code",
   "execution_count": null,
   "id": "0c40e8c3",
   "metadata": {},
   "outputs": [],
   "source": [
    "data.horsepower[data.horsepower == '?'].count()"
   ]
  },
  {
   "cell_type": "code",
   "execution_count": null,
   "id": "9354b2ff",
   "metadata": {},
   "outputs": [],
   "source": [
    "data.isnull().sum()"
   ]
  },
  {
   "cell_type": "code",
   "execution_count": null,
   "id": "25c7ab35",
   "metadata": {},
   "outputs": [],
   "source": [
    "from sklearn.impute import KNNImputer\n",
    "knn_imputer = KNNImputer(n_neighbors=5, missing_values=np.nan)\n",
    "data.horsepower = knn_imputer.fit_transform(data.horsepower.values.reshape(-1,1))"
   ]
  },
  {
   "cell_type": "code",
   "execution_count": null,
   "id": "3f1ac6ab",
   "metadata": {},
   "outputs": [],
   "source": [
    "data.isnull().sum()"
   ]
  },
  {
   "cell_type": "code",
   "execution_count": null,
   "id": "de565da1",
   "metadata": {},
   "outputs": [],
   "source": [
    "mask = np.triu(np.ones_like(data.corr(), dtype=bool)) # Masque triangulaire\n",
    "fig = plt.figure(figsize=(9, 9))\n",
    "ax = sns.heatmap(data.corr(), mask=mask, vmin=-1, vmax=1,\n",
    "                 square=True,linewidths=0.9,\n",
    "                 annot=True, annot_kws={'fontsize':'large'}, cmap='BrBG')\n",
    "ax.set_title('Correlation Heatmap')\n",
    "ax.set_xlabel('', fontsize='25');\n",
    "plt.xticks(rotation = 45);"
   ]
  },
  {
   "cell_type": "markdown",
   "id": "2fbe3438",
   "metadata": {},
   "source": [
    "### Préparer les données pour la modélisation"
   ]
  },
  {
   "cell_type": "markdown",
   "id": "7a7c683a",
   "metadata": {},
   "source": [
    "- Séparer la variable cible des variables explicatives.  \n",
    "- Séparer les données d'entraînement des données de test.\n",
    "- Créer une copie normalisée des données : `scaled_X_train` et `scaled_X_test`\n"
   ]
  },
  {
   "cell_type": "code",
   "execution_count": null,
   "id": "5a8f0dca",
   "metadata": {},
   "outputs": [],
   "source": [
    "y = data.mpg\n",
    "X = data.drop(columns='mpg')\n",
    "y"
   ]
  },
  {
   "cell_type": "code",
   "execution_count": null,
   "id": "6b557980",
   "metadata": {},
   "outputs": [],
   "source": [
    "from sklearn.model_selection import train_test_split\n",
    "\n",
    "X_train, X_test, y_train, y_test = train_test_split(X, y,test_size=0.2, random_state=0)"
   ]
  },
  {
   "cell_type": "code",
   "execution_count": null,
   "id": "574ce9b3",
   "metadata": {},
   "outputs": [],
   "source": [
    "from sklearn.preprocessing import StandardScaler\n",
    "scaler = StandardScaler()\n",
    "X_train_scaled = scaler.fit_transform(X_train)\n",
    "y_train_scaled = scaler.fit_transform(y_train.values.reshape(-1,1))\n",
    "y_train_scaled = np.ravel(y_train_scaled)\n",
    "\n",
    "X_test_scaled = scaler.fit_transform(X_test)\n",
    "y_test_scaled = scaler.fit_transform(y_test.values.reshape(-1,1))\n",
    "y_test_scaled = np.ravel(y_test_scaled)"
   ]
  },
  {
   "cell_type": "markdown",
   "id": "0385ed0b",
   "metadata": {},
   "source": [
    "## Modélisation "
   ]
  },
  {
   "cell_type": "markdown",
   "id": "369f0f94",
   "metadata": {},
   "source": [
    "- Mettre en place des modèles SVM et AD adaptés à la tâche voulue.\n",
    "- Entraîner les modèles sur les données d'entraînement.\n",
    "- Utiliser les données normalisées dans le cas de modèles sensibles à l'échelle.\n",
    "- Penser à utiliser la validation croisée"
   ]
  },
  {
   "cell_type": "markdown",
   "id": "fae26bf2",
   "metadata": {},
   "source": [
    "## Evaluation des modèles"
   ]
  },
  {
   "cell_type": "markdown",
   "id": "22acdec9",
   "metadata": {},
   "source": [
    "- Calculer les métriques adéquates.\n",
    "- Tester le sur-apprentissage et le sous-apprentissage.(à voir demain)\n",
    "- Optimiser les paramètres des modèles"
   ]
  },
  {
   "cell_type": "markdown",
   "id": "417296a2",
   "metadata": {},
   "source": [
    "**SVM**"
   ]
  },
  {
   "cell_type": "code",
   "execution_count": null,
   "id": "64e17a14",
   "metadata": {},
   "outputs": [],
   "source": [
    "from sklearn.svm import SVR\n",
    "from sklearn.model_selection import GridSearchCV\n",
    "\n",
    "model = SVR()\n",
    "param_grid = {'C': [0.1, 1, 10, 100],'kernel': ['linear', 'rbf', 'poly']}\n",
    "\n",
    "grid_search = GridSearchCV(model, param_grid=param_grid)\n",
    "grid_search.fit(X_train_scaled,y_train_scaled)\n"
   ]
  },
  {
   "cell_type": "code",
   "execution_count": null,
   "id": "d3529b81",
   "metadata": {},
   "outputs": [],
   "source": [
    "print(grid_search.best_params_)"
   ]
  },
  {
   "cell_type": "code",
   "execution_count": null,
   "id": "4061f5ec",
   "metadata": {},
   "outputs": [],
   "source": [
    "model = SVR(kernel='rbf', C=1)\n",
    "param_grid = {'gamma': [0.01, 0.1, 1, 10], 'epsilon': [0.01, 0.1, 0.5, 1]}\n",
    "\n",
    "grid_search = GridSearchCV(model, param_grid=param_grid)\n",
    "grid_search.fit(X_train_scaled,y_train_scaled)"
   ]
  },
  {
   "cell_type": "code",
   "execution_count": null,
   "id": "786282a3",
   "metadata": {},
   "outputs": [],
   "source": [
    "print(grid_search.best_params_)"
   ]
  },
  {
   "cell_type": "code",
   "execution_count": null,
   "id": "45f618c4",
   "metadata": {},
   "outputs": [],
   "source": [
    "best_svr = grid_search.best_estimator_\n",
    "best_svr"
   ]
  },
  {
   "cell_type": "code",
   "execution_count": null,
   "id": "c577de5e",
   "metadata": {},
   "outputs": [],
   "source": [
    "from sklearn.metrics import r2_score\n",
    "\n",
    "y_pred = best_svr.predict(X_test_scaled)\n",
    "r2_svm= r2_score(y_pred, y_test_scaled)\n",
    "r2_svm"
   ]
  },
  {
   "cell_type": "markdown",
   "id": "38d2dd8b",
   "metadata": {},
   "source": [
    "-------------------------"
   ]
  },
  {
   "cell_type": "markdown",
   "id": "8cc9c3be",
   "metadata": {},
   "source": [
    "**Arbres de décision**"
   ]
  },
  {
   "cell_type": "code",
   "execution_count": null,
   "id": "1f2b2b93",
   "metadata": {},
   "outputs": [],
   "source": [
    "from sklearn.tree import DecisionTreeRegressor\n",
    "\n",
    "model_DT = DecisionTreeRegressor(random_state=40)\n",
    "\n",
    "param_grid= {'max_depth': [4, 5, 6,7,8,9,10, 20, 100]}\n",
    "\n",
    "grid_search = GridSearchCV(model_DT, param_grid=param_grid)\n",
    "grid_search.fit(X_train, y_train)"
   ]
  },
  {
   "cell_type": "code",
   "execution_count": null,
   "id": "3d16bda0",
   "metadata": {},
   "outputs": [],
   "source": [
    "print(grid_search.best_params_)"
   ]
  },
  {
   "cell_type": "code",
   "execution_count": null,
   "id": "1171c6c8",
   "metadata": {},
   "outputs": [],
   "source": [
    "best_DT = grid_search.best_estimator_\n",
    "y_pred = best_DT.predict(X_test)\n",
    "r2_DT = r2_score(y_pred, y_test)\n",
    "r2_DT"
   ]
  },
  {
   "cell_type": "markdown",
   "id": "73ee370f",
   "metadata": {},
   "source": [
    "**Régression linéaire**"
   ]
  },
  {
   "cell_type": "code",
   "execution_count": null,
   "id": "4b27f200",
   "metadata": {},
   "outputs": [],
   "source": [
    "from sklearn.linear_model import LinearRegression\n",
    "linreg = LinearRegression()\n",
    "linreg.fit(X_train_scaled, y_train_scaled)\n",
    "\n",
    "y_pred = linreg.predict(X_test_scaled)\n",
    "r2_rl = r2_score(y_pred, y_test_scaled)\n",
    "r2_rl"
   ]
  },
  {
   "cell_type": "markdown",
   "id": "b19ec785",
   "metadata": {},
   "source": [
    "**Quel modèle offre la meilleure performance sur ces données ?**"
   ]
  },
  {
   "cell_type": "code",
   "execution_count": null,
   "id": "ba0194fb",
   "metadata": {},
   "outputs": [],
   "source": [
    "score_r2_ = {'SVR':r2_svm, 'DecisionTreeRegressor' : r2_DT, 'LinearRegression': r2_rl}\n",
    "\n",
    "score_r2_tries = sorted(score_r2.items(), key=lambda item: item[1], reverse=True)\n",
    "\n",
    "best_model, best_score = score_r2_tries[0]\n",
    "print(f'le meilleur modele:, {best_model}'  )\n",
    "print(f'le meilleur score:, {best_score}'  )"
   ]
  },
  {
   "cell_type": "code",
   "execution_count": null,
   "id": "76084149",
   "metadata": {},
   "outputs": [],
   "source": []
  }
 ],
 "metadata": {
  "kernelspec": {
   "display_name": "Python 3 (ipykernel)",
   "language": "python",
   "name": "python3"
  },
  "language_info": {
   "codemirror_mode": {
    "name": "ipython",
    "version": 3
   },
   "file_extension": ".py",
   "mimetype": "text/x-python",
   "name": "python",
   "nbconvert_exporter": "python",
   "pygments_lexer": "ipython3",
   "version": "3.10.6"
  },
  "toc": {
   "base_numbering": 1,
   "nav_menu": {},
   "number_sections": true,
   "sideBar": true,
   "skip_h1_title": false,
   "title_cell": "Table of Contents",
   "title_sidebar": "Contents",
   "toc_cell": false,
   "toc_position": {},
   "toc_section_display": true,
   "toc_window_display": false
  }
 },
 "nbformat": 4,
 "nbformat_minor": 5
}
